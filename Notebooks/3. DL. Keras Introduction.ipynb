{
 "cells": [
  {
   "cell_type": "markdown",
   "metadata": {},
   "source": [
    "# Deep learning steps"
   ]
  },
  {
   "cell_type": "markdown",
   "metadata": {},
   "source": [
    "#### Gather the dataset\n",
    "\n",
    "The first component of building a deep learning network is to gather our initial dataset. We need the data itself as well as the labels associated with each data point. These labels should come from a finite set of categories, such as: categories = dog, cat, panda.\n",
    "\n",
    "#### Split Your Dataset \n",
    "\n",
    "Now that we have our initial dataset, we need to split it into two parts: 1. A training set 2. A testing set A training set is used by our classifier to “learn” what each category looks like by making predictions on the input data and then correct itself when predictions are wrong. After the classifier has been trained, we can evaluate the performing on a testing set. Here are some common data splits:\n",
    "\n",
    "![data splits](images/test_train_split.png)\n",
    "\n",
    "You should create a third data split called the validation set. This set of the data (normally) comes from the training data and is used as “fake test data” to tune the hyperparameters. Only after have we determined the hyperparameter values using the validation set do we move on to collecting final accuracy results in the testing data. We normally allocate roughly 10-20% of the training data for validation.\n",
    "\n",
    "#### Train the network\n",
    "\n",
    "Given our training set of images, we can now train our network. The goal here is for our network to learn how to recognize each of the categories in our labeled data. When the model makes a mistake, it learns from this mistake and improves itself.\n",
    "\n",
    "#### Evaluate\n",
    "\n",
    "Last, we need to evaluate our trained network. For each of the data in our testing set, we present them to the network and ask it to predict what it thinks the label of the data is. These model predictions are compared to the ground-truth labels from our testing set. The ground-truth labels represent what the data category actually is. From there, we can compute the number of predictions our classifier got correct and compute aggregate reports such as precision."
   ]
  },
  {
   "cell_type": "markdown",
   "metadata": {},
   "source": [
    "# Keras\n",
    "\n",
    "Keras is a high-level neural networks API, written in Python and capable of running on top of TensorFlow, CNTK, or Theano. It was developed with a focus on enabling fast experimentation.\n",
    "\n",
    "Keras allows:\n",
    "\n",
    "1. Allows for easy and fast prototyping (through user friendliness, modularity, and extensibility).\n",
    "2. Supports both convolutional networks and recurrent networks, as well as combinations of the two.\n",
    "3. Runs seamlessly on CPU and GPU."
   ]
  },
  {
   "cell_type": "markdown",
   "metadata": {},
   "source": [
    "# Mnist with Keras"
   ]
  },
  {
   "cell_type": "markdown",
   "metadata": {},
   "source": [
    "#### Import dependencies"
   ]
  },
  {
   "cell_type": "code",
   "execution_count": 1,
   "metadata": {},
   "outputs": [
    {
     "name": "stderr",
     "output_type": "stream",
     "text": [
      "Using TensorFlow backend.\n"
     ]
    }
   ],
   "source": [
    "from keras import models \n",
    "from keras import layers \n",
    "from keras.utils import to_categorical \n",
    "from keras.datasets import mnist\n",
    "\n",
    "import numpy as np\n",
    "import matplotlib.pyplot as plt"
   ]
  },
  {
   "cell_type": "markdown",
   "metadata": {},
   "source": [
    "#### Load and standardize the data set"
   ]
  },
  {
   "cell_type": "code",
   "execution_count": 2,
   "metadata": {},
   "outputs": [],
   "source": [
    "# load the data, and separate it into train and test sets\n",
    "(train_images, train_labels), (test_images, test_labels) = mnist.load_data()\n",
    "\n",
    "# Standardize the data\n",
    "\n",
    "# flatten arrays\n",
    "train_images = train_images.reshape((60000, 28 * 28))\n",
    "\n",
    "# turn values from 0-255 to 0-1\n",
    "train_images = train_images.astype('float32') / 255 \n",
    "\n",
    "# same starndadization for the test images\n",
    "test_images = test_images.reshape((10000, 28 * 28)) \n",
    "test_images = test_images.astype('float32') / 255\n",
    "\n",
    "# one hot encoding\n",
    "train_labels = to_categorical(train_labels) \n",
    "test_labels = to_categorical(test_labels)"
   ]
  },
  {
   "cell_type": "markdown",
   "metadata": {},
   "source": [
    "#### Create and compile the model"
   ]
  },
  {
   "cell_type": "code",
   "execution_count": 3,
   "metadata": {},
   "outputs": [
    {
     "name": "stdout",
     "output_type": "stream",
     "text": [
      "_________________________________________________________________\n",
      "Layer (type)                 Output Shape              Param #   \n",
      "=================================================================\n",
      "dense_1 (Dense)              (None, 64)                50240     \n",
      "_________________________________________________________________\n",
      "dense_2 (Dense)              (None, 32)                2080      \n",
      "_________________________________________________________________\n",
      "dense_3 (Dense)              (None, 10)                330       \n",
      "=================================================================\n",
      "Total params: 52,650\n",
      "Trainable params: 52,650\n",
      "Non-trainable params: 0\n",
      "_________________________________________________________________\n"
     ]
    }
   ],
   "source": [
    "# The keras.models.Sequential class is a wrapper for the neural network model that treats \n",
    "# the network as a sequence of layers\n",
    "network = models.Sequential()\n",
    "\n",
    "# Dense layers: fully connected layers\n",
    "network.add(layers.Dense(64, activation='sigmoid', input_shape=(28 * 28,))) \n",
    "network.add(layers.Dense(32, activation='sigmoid'))\n",
    "network.add(layers.Dense(10, activation='softmax'))\n",
    "\n",
    "# Once we have our model built, we need to compile it before it can be run. \n",
    "#Compiling the Keras model calls the backend (tensorflow, theano, etc.) and binds the optimizer, \n",
    "#loss function, and other parameters required before the model can be run on any input data.\n",
    "\n",
    "# loss function: basically, the error function. categorical crossentropy is one of many.\n",
    "\n",
    "# optimizer: this is the mechanism through which the network will update itself.\n",
    "# Stochastic Gradient descent (sgd) is one of those.\n",
    "\n",
    "# Metrics to monitor during training and testing. Here we will only care about accuracy.\n",
    "network.compile(optimizer='sgd', loss='categorical_crossentropy', metrics=['accuracy'])\n",
    "\n",
    "network.summary()"
   ]
  },
  {
   "cell_type": "markdown",
   "metadata": {},
   "source": [
    "#### Train the model\n",
    "\n",
    "The model is trained with the fit() method, through the following command that specifies the number of training epochs and the message level (how much information we want displayed on the screen during training)."
   ]
  },
  {
   "cell_type": "code",
   "execution_count": 4,
   "metadata": {},
   "outputs": [
    {
     "name": "stdout",
     "output_type": "stream",
     "text": [
      "Epoch 1/50\n",
      "60000/60000 [==============================] - 4s 62us/step - loss: 2.1970 - acc: 0.3498\n",
      "Epoch 2/50\n",
      "60000/60000 [==============================] - 4s 70us/step - loss: 1.7734 - acc: 0.5931\n",
      "Epoch 3/50\n",
      "60000/60000 [==============================] - 4s 69us/step - loss: 1.2380 - acc: 0.7125\n",
      "Epoch 4/50\n",
      "60000/60000 [==============================] - 4s 70us/step - loss: 0.9057 - acc: 0.7909\n",
      "Epoch 5/50\n",
      "60000/60000 [==============================] - 4s 61us/step - loss: 0.7180 - acc: 0.8303\n",
      "Epoch 6/50\n",
      "60000/60000 [==============================] - 4s 66us/step - loss: 0.6032 - acc: 0.8537\n",
      "Epoch 7/50\n",
      "60000/60000 [==============================] - 4s 66us/step - loss: 0.5283 - acc: 0.8678\n",
      "Epoch 8/50\n",
      "60000/60000 [==============================] - 4s 69us/step - loss: 0.4760 - acc: 0.8789\n",
      "Epoch 9/50\n",
      "60000/60000 [==============================] - 4s 67us/step - loss: 0.4382 - acc: 0.8858\n",
      "Epoch 10/50\n",
      "60000/60000 [==============================] - 4s 69us/step - loss: 0.4100 - acc: 0.8914\n",
      "Epoch 11/50\n",
      "60000/60000 [==============================] - 4s 69us/step - loss: 0.3882 - acc: 0.8953\n",
      "Epoch 12/50\n",
      "60000/60000 [==============================] - 4s 67us/step - loss: 0.3706 - acc: 0.8990\n",
      "Epoch 13/50\n",
      "60000/60000 [==============================] - 3s 56us/step - loss: 0.3563 - acc: 0.9019\n",
      "Epoch 14/50\n",
      "60000/60000 [==============================] - 3s 57us/step - loss: 0.3443 - acc: 0.9039\n",
      "Epoch 15/50\n",
      "60000/60000 [==============================] - 3s 50us/step - loss: 0.3337 - acc: 0.9065\n",
      "Epoch 16/50\n",
      "60000/60000 [==============================] - 4s 60us/step - loss: 0.3244 - acc: 0.9090\n",
      "Epoch 17/50\n",
      "60000/60000 [==============================] - 4s 61us/step - loss: 0.3162 - acc: 0.9104\n",
      "Epoch 18/50\n",
      "60000/60000 [==============================] - 3s 58us/step - loss: 0.3086 - acc: 0.9124\n",
      "Epoch 19/50\n",
      "60000/60000 [==============================] - 4s 61us/step - loss: 0.3017 - acc: 0.9145\n",
      "Epoch 20/50\n",
      "60000/60000 [==============================] - 4s 64us/step - loss: 0.2952 - acc: 0.9156\n",
      "Epoch 21/50\n",
      "60000/60000 [==============================] - 4s 66us/step - loss: 0.2892 - acc: 0.9175\n",
      "Epoch 22/50\n",
      "60000/60000 [==============================] - 3s 52us/step - loss: 0.2836 - acc: 0.9188\n",
      "Epoch 23/50\n",
      "60000/60000 [==============================] - 4s 62us/step - loss: 0.2781 - acc: 0.9202\n",
      "Epoch 24/50\n",
      "60000/60000 [==============================] - 4s 65us/step - loss: 0.2730 - acc: 0.9220\n",
      "Epoch 25/50\n",
      "60000/60000 [==============================] - 4s 64us/step - loss: 0.2681 - acc: 0.9235\n",
      "Epoch 26/50\n",
      "60000/60000 [==============================] - 3s 55us/step - loss: 0.2633 - acc: 0.9249\n",
      "Epoch 27/50\n",
      "60000/60000 [==============================] - 4s 60us/step - loss: 0.2589 - acc: 0.9258\n",
      "Epoch 28/50\n",
      "60000/60000 [==============================] - 4s 60us/step - loss: 0.2545 - acc: 0.9272\n",
      "Epoch 29/50\n",
      "60000/60000 [==============================] - 4s 66us/step - loss: 0.2503 - acc: 0.9281\n",
      "Epoch 30/50\n",
      "60000/60000 [==============================] - 4s 60us/step - loss: 0.2461 - acc: 0.9290\n",
      "Epoch 31/50\n",
      "60000/60000 [==============================] - 3s 53us/step - loss: 0.2421 - acc: 0.9302\n",
      "Epoch 32/50\n",
      "60000/60000 [==============================] - 4s 64us/step - loss: 0.2382 - acc: 0.9314\n",
      "Epoch 33/50\n",
      "60000/60000 [==============================] - 4s 65us/step - loss: 0.2345 - acc: 0.9325\n",
      "Epoch 34/50\n",
      "60000/60000 [==============================] - 4s 61us/step - loss: 0.2308 - acc: 0.9336\n",
      "Epoch 35/50\n",
      "60000/60000 [==============================] - 3s 58us/step - loss: 0.2272 - acc: 0.9347\n",
      "Epoch 36/50\n",
      "60000/60000 [==============================] - 4s 61us/step - loss: 0.2236 - acc: 0.9359\n",
      "Epoch 37/50\n",
      "60000/60000 [==============================] - 4s 63us/step - loss: 0.2203 - acc: 0.9370\n",
      "Epoch 38/50\n",
      "60000/60000 [==============================] - 4s 65us/step - loss: 0.2169 - acc: 0.9376\n",
      "Epoch 39/50\n",
      "60000/60000 [==============================] - 4s 59us/step - loss: 0.2136 - acc: 0.9388\n",
      "Epoch 40/50\n",
      "60000/60000 [==============================] - 4s 62us/step - loss: 0.2104 - acc: 0.9396\n",
      "Epoch 41/50\n",
      "60000/60000 [==============================] - 4s 64us/step - loss: 0.2072 - acc: 0.9407\n",
      "Epoch 42/50\n",
      "60000/60000 [==============================] - 4s 64us/step - loss: 0.2042 - acc: 0.9415\n",
      "Epoch 43/50\n",
      "60000/60000 [==============================] - 3s 55us/step - loss: 0.2011 - acc: 0.9427\n",
      "Epoch 44/50\n",
      "60000/60000 [==============================] - 3s 57us/step - loss: 0.1982 - acc: 0.9435\n",
      "Epoch 45/50\n",
      "60000/60000 [==============================] - 4s 64us/step - loss: 0.1954 - acc: 0.9442\n",
      "Epoch 46/50\n",
      "60000/60000 [==============================] - 4s 64us/step - loss: 0.1926 - acc: 0.9451\n",
      "Epoch 47/50\n",
      "60000/60000 [==============================] - 4s 59us/step - loss: 0.1898 - acc: 0.9457\n",
      "Epoch 48/50\n",
      "60000/60000 [==============================] - 3s 54us/step - loss: 0.1872 - acc: 0.9468\n",
      "Epoch 49/50\n",
      "60000/60000 [==============================] - 4s 64us/step - loss: 0.1845 - acc: 0.9476\n",
      "Epoch 50/50\n",
      "60000/60000 [==============================] - 4s 64us/step - loss: 0.1820 - acc: 0.9484\n",
      "10000/10000 [==============================] - 0s 31us/step\n",
      "test loss:  0.1869659103795886 test accuracy:  0.9458\n"
     ]
    }
   ],
   "source": [
    "network.fit(train_images, train_labels, epochs=50)\n",
    "\n",
    "test_loss, test_acc = network.evaluate(test_images, test_labels)\n",
    "\n",
    "print(\"test loss: \", test_loss, \"test accuracy: \", test_acc)"
   ]
  },
  {
   "cell_type": "code",
   "execution_count": 6,
   "metadata": {
    "scrolled": true
   },
   "outputs": [
    {
     "name": "stdout",
     "output_type": "stream",
     "text": [
      "[[0.009 0.    0.006 0.    0.038 0.014 0.926 0.    0.005 0.002]] [0. 0. 0. 0. 0. 1. 0. 0. 0. 0.]\n"
     ]
    },
    {
     "data": {
      "text/plain": [
       "<matplotlib.image.AxesImage at 0x7f4db83d8320>"
      ]
     },
     "execution_count": 6,
     "metadata": {},
     "output_type": "execute_result"
    },
    {
     "data": {
      "image/png": "[encoded data removed]",
      "text/plain": [
       "<Figure size 432x288 with 1 Axes>"
      ]
     },
     "metadata": {
      "needs_background": "light"
     },
     "output_type": "display_data"
    }
   ],
   "source": [
    "# make a prediction on a specific image from the test data\n",
    "test_index = 8\n",
    "\n",
    "input_image = test_images[test_index].reshape(28*28)\n",
    "prediction = network.predict(np.array([input_image]))\n",
    "\n",
    "np.set_printoptions(precision=3, suppress= True)\n",
    "print(prediction, test_labels[test_index])\n",
    "\n",
    "plt.title(\"Label: \" + str(test_labels[test_index]))\n",
    "plt.imshow(test_images[test_index].reshape(28,28), cmap=\"gray\")"
   ]
  }
 ],
 "metadata": {
  "kernelspec": {
   "display_name": "Python 3",
   "language": "python",
   "name": "python3"
  },
  "language_info": {
   "codemirror_mode": {
    "name": "ipython",
    "version": 3
   },
   "file_extension": ".py",
   "mimetype": "text/x-python",
   "name": "python",
   "nbconvert_exporter": "python",
   "pygments_lexer": "ipython3",
   "version": "3.6.8"
  }
 },
 "nbformat": 4,
 "nbformat_minor": 2
}
