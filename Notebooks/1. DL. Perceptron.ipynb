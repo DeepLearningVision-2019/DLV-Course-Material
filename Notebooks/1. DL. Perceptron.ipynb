{
 "cells": [
  {
   "cell_type": "markdown",
   "metadata": {},
   "source": [
    "# The Perceptron Algorithm"
   ]
  },
  {
   "cell_type": "markdown",
   "metadata": {},
   "source": [
    "A Perceptron is a system that learns using labeled examples of feature vectors, mapping these inputs to their corresponding output class labels. In its simplest form, a Perceptron contains N input nodes, one for each entry in the input row, followed by only one layer in the network with just a single node in that layer."
   ]
  },
  {
   "cell_type": "markdown",
   "metadata": {},
   "source": [
    "![Perceptron](images/Perceptron.png)"
   ]
  },
  {
   "cell_type": "markdown",
   "metadata": {},
   "source": [
    "Training a Perceptron is a fairly straightforward operation. Our goal is to obtain a set of weights *w* that accurately classifies each instance in our training set. In order to train our Perceptron, we iteratively feed the network our training data multiple times. Each time the network has seen the full set of training data, we say an epoch has passed. It normally takes many epochs until a weight vector _w_ can be learned to linearly separate our two classes of data."
   ]
  },
  {
   "cell_type": "markdown",
   "metadata": {},
   "source": [
    "The pseudocode is the following:\n",
    "1. Initialize our weight vector w with small random values\n",
    "2. Until Perceptron converges\n",
    "    1. Loop over each input and class label\n",
    "    2. Take $x$ and pass it through the network, calculating the output value: $y = (w · x)$\n",
    "    3. Update the weights: if ŷ = 0 --> $w_i = w_i + \\alpha x_i$, if ŷ = 1 --> $w_i = w_i - \\alpha x_i$\n",
    "        "
   ]
  },
  {
   "cell_type": "code",
   "execution_count": 1,
   "metadata": {},
   "outputs": [],
   "source": [
    "import numpy as np"
   ]
  },
  {
   "cell_type": "code",
   "execution_count": 2,
   "metadata": {},
   "outputs": [],
   "source": [
    "class Perceptron:        \n",
    "    \"\"\"Perceptron class\n",
    "\n",
    "        Args:\n",
    "            N: Number of inputs\n",
    "            alpha: Learning rate\n",
    "        \n",
    "        Attributes:\n",
    "            W: The weights for the perceptron\n",
    "            b: bias\n",
    "            alpha: The learning rate\n",
    "    \"\"\"\n",
    "    def __init__(self, N, alpha=0.1):        \n",
    "        # Creates an array of N weights and initializes with random values\n",
    "        self.W = np.random.randn(N)\n",
    "        self.b = np.random.rand()\n",
    "        self.alpha = alpha\n",
    "        \n",
    "    def step(self, x):\n",
    "        #TO DO: Apply the step function\n",
    "        pass\n",
    "    \n",
    "    def sigmoid(self, x):\n",
    "        #TO DO: Apply the sigmoid function\n",
    "        pass\n",
    "    \n",
    "    def predict(self, x):\n",
    "        \"\"\"\n",
    "            Makes a prediction for the specified input\n",
    "            \n",
    "            Args:\n",
    "                x: Input to make a prediction on.\n",
    "        \"\"\"        \n",
    "        #TO DO: Define the predict function\n",
    "        pass\n",
    "    \n",
    "    def perceptronStep(self, X, y):\n",
    "        \"\"\"\n",
    "            The perceptron basic step. It updates the weights based on the input data.\n",
    "            \n",
    "            Args:\n",
    "                X: Array with the input data\n",
    "                y: Data labels\n",
    "        \"\"\"\n",
    "        # TO DO: Implement the perceptron algorithm.\n",
    "        pass\n",
    "    \n",
    "    def train(self, X, y, epochs = 10):\n",
    "        \"\"\"\n",
    "            Runs the perceptron step a specified number of epochs\n",
    "            \n",
    "            Args:\n",
    "                X: input data\n",
    "                y: labels\n",
    "                epochs: The number of times the step is executed\n",
    "        \"\"\"\n",
    "        # loop over the desired epochs\n",
    "        for epoch in range(epochs):\n",
    "            self.perceptronStep(X, y)\n",
    "        return\n",
    "                "
   ]
  },
  {
   "cell_type": "code",
   "execution_count": 3,
   "metadata": {},
   "outputs": [
    {
     "name": "stdout",
     "output_type": "stream",
     "text": [
      "Initial weights [ 0.49671415 -0.1382643 ]\n",
      "Weights after training [ 0.49671415 -0.1382643 ]\n",
      "Input [0 0], labels [0] prediction None\n",
      "Input [0 1], labels [0] prediction None\n",
      "Input [1 0], labels [0] prediction None\n",
      "Input [1 1], labels [1] prediction None\n"
     ]
    }
   ],
   "source": [
    "# change the seed to see different solutions\n",
    "np.random.seed(42)\n",
    "\n",
    "# The following data is used to train the perceptron for the AND operation\n",
    "# Test your code with the OR operation\n",
    "X = np.array([[0,0],[0,1], [1,0], [1,1]])\n",
    "y = np.array([[0],[0], [0], [1]])\n",
    "\n",
    "p = Perceptron(X.shape[1])\n",
    "print(\"Initial weights {}\".format(p.W))\n",
    "\n",
    "# Test training with different epochs\n",
    "p.train(X, y, 25)\n",
    "print(\"Weights after training {}\".format(p.W))\n",
    "\n",
    "for x, target in zip(X, y):\n",
    "    pred = p.predict(x)\n",
    "    print(\"Input {}, labels {} prediction {}\".format(x, target, pred))"
   ]
  }
 ],
 "metadata": {
  "kernelspec": {
   "display_name": "Python 3",
   "language": "python",
   "name": "python3"
  },
  "language_info": {
   "codemirror_mode": {
    "name": "ipython",
    "version": 3
   },
   "file_extension": ".py",
   "mimetype": "text/x-python",
   "name": "python",
   "nbconvert_exporter": "python",
   "pygments_lexer": "ipython3",
   "version": "3.6.8"
  }
 },
 "nbformat": 4,
 "nbformat_minor": 2
}
