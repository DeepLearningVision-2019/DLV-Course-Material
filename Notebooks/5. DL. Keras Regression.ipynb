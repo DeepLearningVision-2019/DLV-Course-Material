{
 "cells": [
  {
   "cell_type": "markdown",
   "metadata": {},
   "source": [
    "# Predicting house prices\n",
    "\n",
    "---\n",
    "\n",
    "We were considering classification problems, where the goal was to predict a single discrete label of an input data point. Another common type of machine learning problem is *regression*, which consists of predicting a continuous value instead instead of a discrete label. For instance, predicting the temperature tomorrow, given meteorological data, or predicting the time that a software project will take to complete, given its specifications."
   ]
  },
  {
   "cell_type": "markdown",
   "metadata": {},
   "source": [
    "### The Boston housing price data set\n",
    "\n",
    "---\n",
    "\n",
    "We will be attempting to predict the median price of homes in a given Boston suburb in the mid-1970s, given a few data points about the suburb at the time, such as the crime rate, the local property tax rate, etc."
   ]
  },
  {
   "cell_type": "markdown",
   "metadata": {},
   "source": [
    "#### Import libraries and load data set"
   ]
  },
  {
   "cell_type": "code",
   "execution_count": 1,
   "metadata": {},
   "outputs": [
    {
     "name": "stderr",
     "output_type": "stream",
     "text": [
      "Using TensorFlow backend.\n"
     ]
    }
   ],
   "source": [
    "import numpy as np\n",
    "import matplotlib.pyplot as plt\n",
    "\n",
    "from keras import models \n",
    "from keras import layers \n",
    "from keras.utils import to_categorical \n",
    "from keras.datasets import boston_housing"
   ]
  },
  {
   "cell_type": "code",
   "execution_count": 6,
   "metadata": {},
   "outputs": [
    {
     "name": "stdout",
     "output_type": "stream",
     "text": [
      "(404, 13)\n",
      "(404,)\n",
      "Sample data: [  1.23247   0.        8.14      0.        0.538     6.142    91.7\n",
      "   3.9769    4.      307.       21.      396.9      18.72   ]\n",
      "Sample price: 15.2\n"
     ]
    }
   ],
   "source": [
    "(train_data, train_targets), (test_data, test_targets) = boston_housing.load_data()\n",
    "\n",
    "print(train_data.shape)\n",
    "print(train_targets.shape)\n",
    "print(\"Sample data:\", train_data[0])\n",
    "print(\"Sample price:\", train_targets[0])"
   ]
  },
  {
   "cell_type": "markdown",
   "metadata": {},
   "source": [
    "The data comprises 13 features:\n",
    "\n",
    "1. Per capita crime rate. \n",
    "2. Proportion of residential land zoned for lots over 25,000 square feet.\n",
    "3. Proportion of non-retail business acres per town. \n",
    "4. Charles River dummy variable (= 1 if tract bounds river; 0 otherwise). \n",
    "5. Nitric oxides concentration (parts per 10 million). \n",
    "6. Average number of rooms per dwelling.\n",
    "7. Proportion of owner-occupied units built prior to 1940. \n",
    "8. Weighted distances to five Boston employment centres. \n",
    "9. Index of accessibility to radial highways. \n",
    "10. Full-value property-tax rate per $10,000. \n",
    "11. Pupil-teacher ratio by town. \n",
    "12. 1000 * (Bk - 0.63) ** 2 where Bk is the proportion of Black people by town. \n",
    "13. % lower status of the population.\n",
    "\n",
    "The targets are the median values of owner-occupied homes, in thousands of dollars."
   ]
  },
  {
   "cell_type": "markdown",
   "metadata": {},
   "source": [
    "#### Prepare the data\n",
    "\n",
    "It is problematic to feed into a neural network values that all take different ranges. The network might be able to automatically adapt, but it would make learning more difficult. A widespread best practice to deal with such data is to do feature-wise normalization: \n",
    "\n",
    "For each feature in the input data (a column in the input data matrix), we will subtract the mean of the feature and divide by the standard deviation, so that the feature will be centered around 0 and will have a unit standard deviation."
   ]
  },
  {
   "cell_type": "code",
   "execution_count": 14,
   "metadata": {},
   "outputs": [
    {
     "name": "stdout",
     "output_type": "stream",
     "text": [
      "[3.74511057e+00 1.14801980e+01 1.11044307e+01 6.18811881e-02\n",
      " 5.57355941e-01 6.26708168e+00 6.90106436e+01 3.74027079e+00\n",
      " 9.44059406e+00 4.05898515e+02 1.84759901e+01 3.54783168e+02\n",
      " 1.27408168e+01]\n",
      "[9.22929073e+00 2.37382770e+01 6.80287253e+00 2.40939633e-01\n",
      " 1.17147847e-01 7.08908627e-01 2.79060634e+01 2.02770050e+00\n",
      " 8.68758849e+00 1.66168506e+02 2.19765689e+00 9.39946015e+01\n",
      " 7.24556085e+00]\n"
     ]
    }
   ],
   "source": [
    "# Calculates the mean and std for each of the data features\n",
    "mean = train_data.mean(axis=0)\n",
    "std = train_data.std(axis=0)\n",
    "print(mean)\n",
    "print(std)\n",
    "\n",
    "# Subsctract the mean\n",
    "train_data -= mean\n",
    "test_data -= mean\n",
    "\n",
    "# Divide by the standard deviation\n",
    "train_data /= std\n",
    "test_data /= std"
   ]
  },
  {
   "cell_type": "markdown",
   "metadata": {},
   "source": [
    "Note that the quantities that we use for normalizing the test data have been computed using the training data. We should never use in our workflow any quantity computed on the test data, even for something as simple as data normalization. \n",
    "\n",
    "Normalizing using the training parameters only is best as sampling errors may negatively bias the predictions: it makes sense to use the means and variances from the training data, since it's what the model was trained on. The model approximates a mapping from data standardized by the training data's mean and variance, so using the test data's mean and variance would give you inaccurate results."
   ]
  },
  {
   "cell_type": "code",
   "execution_count": 30,
   "metadata": {},
   "outputs": [],
   "source": [
    "# Build the model\n",
    "def build_model():\n",
    "    model = models.Sequential()\n",
    "    model.add(layers.Dense(64, activation = 'relu', input_shape=(train_data.shape[1],)))\n",
    "    model.add(layers.Dense(64, activation = 'relu'))\n",
    "\n",
    "    # The models ends with one layer, and no activation\n",
    "    model.add(layers.Dense(1))\n",
    "\n",
    "    # Using mean squared error function: best for regression problems\n",
    "    # For metric, using the mean absolute error: absolute error of the difference between \n",
    "    # the prediction and the target\n",
    "    model.compile(optimizer = 'rmsprop', loss = 'mse', metrics=['mae'])\n",
    "    \n",
    "    return model"
   ]
  },
  {
   "cell_type": "markdown",
   "metadata": {},
   "source": [
    "#### Validating using K-fold validation\n",
    "\n",
    "When you have small data sets, using a validation with a slice of the data may change validation scores depending on which data points were chosen for the validation and which for training. This prevents us from reliably evaluating the model.\n",
    "\n",
    "The best practice in such situations is to use K-fold cross-validation. It consists of splitting the available data into K partitions (typically K=4 or 5), then instantiating K identical models, and training each one on K-1 partitions while evaluating on the remaining partition. The validation score for the model used would then be the average of the K validation scores obtained.\n",
    "\n",
    "![k-fold](images/k-fold.png)"
   ]
  },
  {
   "cell_type": "code",
   "execution_count": 82,
   "metadata": {},
   "outputs": [
    {
     "name": "stdout",
     "output_type": "stream",
     "text": [
      "Validation samples: 101\n",
      "Processing fold:  0\n",
      "Processing fold:  1\n",
      "Processing fold:  2\n",
      "Processing fold:  3\n"
     ]
    }
   ],
   "source": [
    "# K-fold validation\n",
    "\n",
    "k = 4\n",
    "num_val_samples = len(train_data) // k\n",
    "print(\"Validation samples:\", num_val_samples)\n",
    "\n",
    "all_mae_histories = []\n",
    "\n",
    "num_epochs = 500\n",
    "\n",
    "for i in range(k):\n",
    "    print(\"Processing fold: \", i)\n",
    "    \n",
    "    # Prepare the validation data\n",
    "    val_data = train_data[i * (num_val_samples) : (i+1) * num_val_samples]\n",
    "    val_targets = train_targets[i * (num_val_samples) : (i+1) * num_val_samples]\n",
    "    \n",
    "    # Prepare the train data\n",
    "    partial_train_data = np.concatenate([train_data[:i*num_val_samples],\n",
    "                                         train_data[(i+1)*num_val_samples:]], axis = 0)\n",
    "    partial_train_targets = np.concatenate([train_targets[:i*num_val_samples],\n",
    "                                         train_targets[(i+1)*num_val_samples:]], axis = 0)\n",
    "    \n",
    "    model = build_model()\n",
    "    \n",
    "    history = model.fit(partial_train_data, partial_train_targets, epochs = num_epochs,\n",
    "                        validation_data = (val_data, val_targets),\n",
    "                        batch_size = 20, verbose = 0)\n",
    "    all_mae_histories.append(history.history['val_mean_absolute_error'])"
   ]
  },
  {
   "cell_type": "code",
   "execution_count": 98,
   "metadata": {},
   "outputs": [
    {
     "name": "stdout",
     "output_type": "stream",
     "text": [
      "Average validation:  2.635614234992773\n"
     ]
    },
    {
     "data": {
      "image/png": "[encoded data removed]",
      "text/plain": [
       "<Figure size 432x288 with 1 Axes>"
      ]
     },
     "metadata": {
      "needs_background": "light"
     },
     "output_type": "display_data"
    }
   ],
   "source": [
    "average_mae_history = [np.mean([x[i] for x in all_mae_histories]) for i in range(num_epochs)]\n",
    "\n",
    "print(\"Average validation: \", np.mean(average_mae_history))\n",
    "plt.plot(range(1, len(average_mae_history)+1), average_mae_history)\n",
    "plt.xlabel('Epochs')\n",
    "plt.ylabel('Validation MAE')\n",
    "plt.show()"
   ]
  },
  {
   "cell_type": "code",
   "execution_count": 93,
   "metadata": {},
   "outputs": [
    {
     "data": {
      "image/png": "[encoded data removed]",
      "text/plain": [
       "<Figure size 432x288 with 1 Axes>"
      ]
     },
     "metadata": {
      "needs_background": "light"
     },
     "output_type": "display_data"
    }
   ],
   "source": [
    "# To visualize more easily: \n",
    "# Omit the first data points, which are on a different scale from the rest of the curve.\n",
    "# Replace each point with an exponential moving average of the previous points, to obtain a smooth curve.\n",
    "def smooth_curve(points, factor=0.9): \n",
    "    smoothed_points = [] \n",
    "    for point in points: \n",
    "        if smoothed_points: \n",
    "            previous = smoothed_points[-1] \n",
    "            smoothed_points.append(previous * factor + point * (1 - factor))\n",
    "        else: \n",
    "            smoothed_points.append(point) \n",
    "    \n",
    "    return smoothed_points \n",
    "\n",
    "        \n",
    "smooth_mae_history = smooth_curve(average_mae_history[25:]) \n",
    "\n",
    "plt.plot(range(1, len(smooth_mae_history) + 1), smooth_mae_history) \n",
    "plt.xlabel('Epochs') \n",
    "plt.ylabel('Validation MAE')\n",
    "plt.show()"
   ]
  },
  {
   "cell_type": "code",
   "execution_count": 97,
   "metadata": {},
   "outputs": [
    {
     "name": "stdout",
     "output_type": "stream",
     "text": [
      "102/102 [==============================] - 1s 6ms/step\n",
      "Mse: 16.30868320839078 Mae: 2.5702745774213005\n"
     ]
    }
   ],
   "source": [
    "# Train after 80 epochs and validate on the test data\n",
    "\n",
    "model = build_model()\n",
    "model.fit(train_data, train_targets, epochs = 80, batch_size = 10, verbose = 0)\n",
    "\n",
    "test_mse, test_mae = model.evaluate(test_data, test_targets)\n",
    "\n",
    "print(\"Mse: {0} Mae: {1}\".format(test_mse, test_mae))"
   ]
  }
 ],
 "metadata": {
  "kernelspec": {
   "display_name": "Python 3",
   "language": "python",
   "name": "python3"
  },
  "language_info": {
   "codemirror_mode": {
    "name": "ipython",
    "version": 3
   },
   "file_extension": ".py",
   "mimetype": "text/x-python",
   "name": "python",
   "nbconvert_exporter": "python",
   "pygments_lexer": "ipython3",
   "version": "3.6.8"
  }
 },
 "nbformat": 4,
 "nbformat_minor": 2
}
