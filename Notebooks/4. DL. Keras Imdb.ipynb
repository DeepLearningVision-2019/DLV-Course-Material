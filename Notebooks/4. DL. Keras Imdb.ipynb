{
 "cells": [
  {
   "cell_type": "markdown",
   "metadata": {},
   "source": [
    "#### Basic imports"
   ]
  },
  {
   "cell_type": "code",
   "execution_count": 1,
   "metadata": {},
   "outputs": [
    {
     "name": "stderr",
     "output_type": "stream",
     "text": [
      "Using TensorFlow backend.\n"
     ]
    }
   ],
   "source": [
    "import numpy as np\n",
    "import matplotlib.pyplot as plt\n",
    "\n",
    "from keras import models \n",
    "from keras import layers \n",
    "from keras import callbacks\n",
    "\n",
    "# this function allows the one hot encoding of labels\n",
    "from keras.utils import to_categorical \n",
    "\n",
    "# this module has the imdb data set\n",
    "from keras.datasets import imdb\n",
    "\n",
    "# this allows the preprocessing of text into a list of binary inputs\n",
    "from keras.preprocessing.text import Tokenizer"
   ]
  },
  {
   "cell_type": "markdown",
   "metadata": {},
   "source": [
    "#### Load and visualize the data"
   ]
  },
  {
   "cell_type": "code",
   "execution_count": 2,
   "metadata": {},
   "outputs": [
    {
     "name": "stdout",
     "output_type": "stream",
     "text": [
      "(25000,)\n",
      "218\n",
      "[1, 14, 22, 16, 43, 530, 973, 1622, 1385, 65, 458, 4468, 66, 3941, 4, 173, 36, 256, 5, 25, 100, 43, 838, 112, 50, 670, 2, 9, 35, 480, 284, 5, 150, 4, 172, 112, 167, 2, 336, 385, 39, 4, 172, 4536, 1111, 17, 546, 38, 13, 447, 4, 192, 50, 16, 6, 147, 2025, 19, 14, 22, 4, 1920, 4613, 469, 4, 22, 71, 87, 12, 16, 43, 530, 38, 76, 15, 13, 1247, 4, 22, 17, 515, 17, 12, 16, 626, 18, 2, 5, 62, 386, 12, 8, 316, 8, 106, 5, 4, 2223, 2, 16, 480, 66, 3785, 33, 4, 130, 12, 16, 38, 619, 5, 25, 124, 51, 36, 135, 48, 25, 1415, 33, 6, 22, 12, 215, 28, 77, 52, 5, 14, 407, 16, 82, 2, 8, 4, 107, 117, 2, 15, 256, 4, 2, 7, 3766, 5, 723, 36, 71, 43, 530, 476, 26, 400, 317, 46, 7, 4, 2, 1029, 13, 104, 88, 4, 381, 15, 297, 98, 32, 2071, 56, 26, 141, 6, 194, 2, 18, 4, 226, 22, 21, 134, 476, 26, 480, 5, 144, 30, 2, 18, 51, 36, 28, 224, 92, 25, 104, 4, 226, 65, 16, 38, 1334, 88, 12, 16, 283, 5, 16, 4472, 113, 103, 32, 15, 16, 2, 19, 178, 32]\n",
      "1\n"
     ]
    }
   ],
   "source": [
    "# Load the train and test data\n",
    "(train_data, train_labels), (test_data, test_labels) = imdb.load_data(num_words=5000)\n",
    "\n",
    "print(train_data.shape)\n",
    "print(len(train_data[0]))\n",
    "\n",
    "# The data set contains a review, and the sentiment of the review: either positive, 1, or negative, 0.\n",
    "print(train_data[0])\n",
    "print(train_labels[0])\n"
   ]
  },
  {
   "cell_type": "code",
   "execution_count": 3,
   "metadata": {},
   "outputs": [
    {
     "name": "stdout",
     "output_type": "stream",
     "text": [
      "<START> this film was just brilliant casting location scenery story direction everyone's really suited the part they played and you could just imagine being there robert <UNKNOWN> is an amazing actor and now the same being director <UNKNOWN> father came from the same scottish island as myself so i loved the fact there was a real connection with this film the witty remarks throughout the film were great it was just brilliant so much that i bought the film as soon as it was released for <UNKNOWN> and would recommend it to everyone to watch and the fly <UNKNOWN> was amazing really cried at the end it was so sad and you know what they say if you cry at a film it must have been good and this definitely was also <UNKNOWN> to the two little <UNKNOWN> that played the <UNKNOWN> of norman and paul they were just brilliant children are often left out of the <UNKNOWN> list i think because the stars that play them all grown up are such a big <UNKNOWN> for the whole film but these children are amazing and should be <UNKNOWN> for what they have done don't you think the whole story was so lovely because it was true and was someone's life after all that was <UNKNOWN> with us all\n"
     ]
    }
   ],
   "source": [
    "# Using a word dictionary, we can decode the integer message\n",
    "word_index = imdb.get_word_index()\n",
    "\n",
    "# The dictionary's key is the word, and its frequency ranking is its value. For simplicity\n",
    "# we swap them using list comprehention\n",
    "reverse_index = dict([(value+3, key) for (key, value) in word_index.items()])\n",
    "\n",
    "# The first 3 indices are reserved for the following values. That is why we need to pad the values by 3\n",
    "reverse_index[0] = \"<PAD>\"\n",
    "reverse_index[1] = \"<START>\"\n",
    "reverse_index[2] = \"<UNKNOWN>\"  # unknown\n",
    "reverse_index[3] = \"<UNUSED>\"\n",
    "\n",
    "decoded_review = ' '.join([reverse_index.get(i,'?') for i in train_data[0]])\n",
    "\n",
    "print(decoded_review)"
   ]
  },
  {
   "cell_type": "markdown",
   "metadata": {},
   "source": [
    "#### Standardize and one hot encode the data"
   ]
  },
  {
   "cell_type": "code",
   "execution_count": 4,
   "metadata": {},
   "outputs": [
    {
     "name": "stdout",
     "output_type": "stream",
     "text": [
      "(25000, 5000)\n",
      "(25000, 5000)\n",
      "(25000, 2)\n",
      "(25000, 2)\n",
      "(15000, 5000)\n",
      "(15000, 2)\n"
     ]
    }
   ],
   "source": [
    "# Turning the output into vector mode, each of length 5000\n",
    "tokenizer = Tokenizer(num_words=5000)\n",
    "train_data_token = tokenizer.sequences_to_matrix(train_data, mode='binary')\n",
    "test_data_token = tokenizer.sequences_to_matrix(test_data, mode='binary')\n",
    "print(train_data_token.shape)\n",
    "print(test_data_token.shape)\n",
    "\n",
    "# One-hot encoding the output\n",
    "num_classes = 2\n",
    "one_hot_train_labels = to_categorical(train_labels, num_classes)\n",
    "one_hot_test_labels = to_categorical(test_labels, num_classes)\n",
    "print(one_hot_train_labels.shape)\n",
    "print(one_hot_test_labels.shape)\n",
    "\n",
    "# Creating a validation set with the first 10000 reviews\n",
    "validation_data = train_data_token[:10000]\n",
    "validation_labels = one_hot_train_labels[:10000]\n",
    "\n",
    "# Creating the input set\n",
    "x_data = train_data_token[10000:]\n",
    "y_data = one_hot_train_labels[10000:]\n",
    "print(x_data.shape)\n",
    "print(y_data.shape)"
   ]
  },
  {
   "cell_type": "markdown",
   "metadata": {},
   "source": [
    "#### Build and train the model"
   ]
  },
  {
   "cell_type": "code",
   "execution_count": 5,
   "metadata": {},
   "outputs": [
    {
     "name": "stdout",
     "output_type": "stream",
     "text": [
      "_________________________________________________________________\n",
      "Layer (type)                 Output Shape              Param #   \n",
      "=================================================================\n",
      "dense_1 (Dense)              (None, 128)               640128    \n",
      "_________________________________________________________________\n",
      "dropout_1 (Dropout)          (None, 128)               0         \n",
      "_________________________________________________________________\n",
      "dense_2 (Dense)              (None, 64)                8256      \n",
      "_________________________________________________________________\n",
      "dropout_2 (Dropout)          (None, 64)                0         \n",
      "_________________________________________________________________\n",
      "dense_3 (Dense)              (None, 2)                 130       \n",
      "=================================================================\n",
      "Total params: 648,514\n",
      "Trainable params: 648,514\n",
      "Non-trainable params: 0\n",
      "_________________________________________________________________\n"
     ]
    }
   ],
   "source": [
    "# Building the model architecture\n",
    "model = models.Sequential()\n",
    "model.add(layers.Dense(128, activation='relu', input_dim=5000))\n",
    "# Added dropout between the input and first hidden layer\n",
    "model.add(layers.Dropout(0.3))\n",
    "model.add(layers.Dense(64, activation='relu'))\n",
    "# Added dropout between the first hidden layer and the second one\n",
    "model.add(layers.Dropout(0.3))\n",
    "model.add(layers.Dense(num_classes, activation='softmax'))\n",
    "model.summary()\n",
    "\n",
    "# included the early stopping which monitors the validation loss\n",
    "early_stop = callbacks.EarlyStopping(monitor='val_loss', patience=5)\n",
    "model.compile(loss='binary_crossentropy', \n",
    "              optimizer='rmsprop',\n",
    "              metrics=['accuracy'])"
   ]
  },
  {
   "cell_type": "code",
   "execution_count": 6,
   "metadata": {},
   "outputs": [
    {
     "name": "stdout",
     "output_type": "stream",
     "text": [
      "Train on 20000 samples, validate on 5000 samples\n",
      "Epoch 1/40\n",
      " - 2s - loss: 0.4852 - acc: 0.7656 - val_loss: 0.3355 - val_acc: 0.8600\n",
      "Epoch 2/40\n",
      " - 1s - loss: 0.2926 - acc: 0.8844 - val_loss: 0.3190 - val_acc: 0.8678\n",
      "Epoch 3/40\n",
      " - 1s - loss: 0.2297 - acc: 0.9096 - val_loss: 0.2752 - val_acc: 0.8888\n",
      "Epoch 4/40\n",
      " - 1s - loss: 0.1899 - acc: 0.9272 - val_loss: 0.2834 - val_acc: 0.8854\n",
      "Epoch 5/40\n",
      " - 1s - loss: 0.1522 - acc: 0.9426 - val_loss: 0.2924 - val_acc: 0.8870\n",
      "Epoch 6/40\n",
      " - 1s - loss: 0.1152 - acc: 0.9591 - val_loss: 0.3589 - val_acc: 0.8876\n",
      "Epoch 7/40\n",
      " - 1s - loss: 0.0911 - acc: 0.9671 - val_loss: 0.3506 - val_acc: 0.8868\n",
      "Epoch 8/40\n",
      " - 1s - loss: 0.0604 - acc: 0.9797 - val_loss: 0.4046 - val_acc: 0.8810\n"
     ]
    }
   ],
   "source": [
    "# You can manually create and add the validation set, or...\n",
    "'''history = model.fit(x_data, y_data,\n",
    "          batch_size=512,\n",
    "          epochs=40,\n",
    "          validation_data=(validation_data, validation_labels), \n",
    "          verbose=2)\n",
    "          '''\n",
    "\n",
    "# You can let keras make it for you by telling it which percetage of the train data\n",
    "# will be used as validation. In this case through the validation_split argument.\n",
    "# Here, it is taking 20% of the train data to use for validation.\n",
    "history = model.fit(train_data_token, one_hot_train_labels,\n",
    "          batch_size=512,\n",
    "          epochs=40,\n",
    "          validation_split=0.2,\n",
    "          callbacks=[early_stop], \n",
    "          verbose=2)"
   ]
  },
  {
   "cell_type": "markdown",
   "metadata": {},
   "source": [
    "#### Evaluate the model, and plot the validation and accuracy"
   ]
  },
  {
   "cell_type": "code",
   "execution_count": 7,
   "metadata": {},
   "outputs": [
    {
     "name": "stdout",
     "output_type": "stream",
     "text": [
      "25000/25000 [==============================] - 3s 115us/step\n",
      "[0.4302939310097694, 0.869]\n"
     ]
    }
   ],
   "source": [
    "# Evaluating the model with the test data\n",
    "results = model.evaluate(test_data_token, one_hot_test_labels)\n",
    "\n",
    "print(results)"
   ]
  },
  {
   "cell_type": "code",
   "execution_count": 8,
   "metadata": {},
   "outputs": [
    {
     "name": "stdout",
     "output_type": "stream",
     "text": [
      "dict_keys(['val_loss', 'val_acc', 'loss', 'acc'])\n"
     ]
    }
   ],
   "source": [
    "# This dictionary stores the validation and accuracy of the model throughout the epochs\n",
    "history_dict = history.history\n",
    "print(history_dict.keys())"
   ]
  },
  {
   "cell_type": "code",
   "execution_count": 9,
   "metadata": {},
   "outputs": [],
   "source": [
    "# The history values are split in different lists for ease of plotting\n",
    "acc = history_dict['acc']\n",
    "val_acc = history_dict['val_acc']\n",
    "loss = history_dict['loss']\n",
    "val_loss = history_dict['val_loss']\n",
    "\n",
    "epochs = range(1, len(acc) + 1)"
   ]
  },
  {
   "cell_type": "code",
   "execution_count": 10,
   "metadata": {},
   "outputs": [
    {
     "data": {
      "image/png": "[encoded data removed]",
      "text/plain": [
       "<Figure size 432x288 with 1 Axes>"
      ]
     },
     "metadata": {
      "needs_background": "light"
     },
     "output_type": "display_data"
    }
   ],
   "source": [
    "# Plot of the validation and training loss\n",
    "\n",
    "# \"bo\" is for \"blue dot\"\n",
    "plt.plot(epochs, loss, 'bo', label='Training loss')\n",
    "# b is for \"solid blue line\"\n",
    "plt.plot(epochs, val_loss, 'b', label='Validation loss')\n",
    "plt.title('Training and validation loss')\n",
    "plt.xlabel('Epochs')\n",
    "plt.ylabel('Loss')\n",
    "plt.legend()\n",
    "\n",
    "plt.show()"
   ]
  },
  {
   "cell_type": "code",
   "execution_count": 11,
   "metadata": {},
   "outputs": [
    {
     "data": {
      "image/png": "[encoded data removed]",
      "text/plain": [
       "<Figure size 432x288 with 1 Axes>"
      ]
     },
     "metadata": {
      "needs_background": "light"
     },
     "output_type": "display_data"
    }
   ],
   "source": [
    "# Plot of the validation and train accuracy\n",
    "\n",
    "plt.clf()   # clear figure\n",
    "\n",
    "plt.plot(epochs, acc, 'bo', label='Training acc')\n",
    "plt.plot(epochs, val_acc, 'b', label='Validation acc')\n",
    "plt.title('Training and validation accuracy')\n",
    "plt.xlabel('Epochs')\n",
    "plt.ylabel('Accuracy')\n",
    "plt.legend()\n",
    "\n",
    "plt.show()"
   ]
  }
 ],
 "metadata": {
  "kernelspec": {
   "display_name": "Python 3",
   "language": "python",
   "name": "python3"
  },
  "language_info": {
   "codemirror_mode": {
    "name": "ipython",
    "version": 3
   },
   "file_extension": ".py",
   "mimetype": "text/x-python",
   "name": "python",
   "nbconvert_exporter": "python",
   "pygments_lexer": "ipython3",
   "version": "3.6.8"
  }
 },
 "nbformat": 4,
 "nbformat_minor": 2
}
