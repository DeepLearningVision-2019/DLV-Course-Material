{
 "cells": [
  {
   "cell_type": "code",
   "execution_count": 4,
   "metadata": {},
   "outputs": [],
   "source": [
    "import gym\n",
    "\n",
    "import numpy as np\n",
    "import random\n",
    "\n",
    "from keras import models, layers, optimizers\n",
    "\n",
    "from collections import deque"
   ]
  },
  {
   "cell_type": "code",
   "execution_count": 2,
   "metadata": {},
   "outputs": [
    {
     "name": "stdout",
     "output_type": "stream",
     "text": [
      "4 2\n"
     ]
    }
   ],
   "source": [
    "env = gym.make('CartPole-v0')\n",
    "\n",
    "state_size = env.observation_space.shape[0]\n",
    "action_size = env.action_space.n\n",
    "\n",
    "print(state_size, action_size)\n",
    "\n",
    "batch_size = 32\n",
    "\n",
    "episodes = 1000"
   ]
  },
  {
   "cell_type": "code",
   "execution_count": 5,
   "metadata": {},
   "outputs": [],
   "source": [
    "class dqAgent:\n",
    "    \n",
    "    def __init__(self, state_size, action_size):\n",
    "        \n",
    "        self.state_size = state_size\n",
    "        self.action_size = action_size\n",
    "        \n",
    "        self.memory = deque(maxlen=1000)\n",
    "        \n",
    "        self.gamma = 0.95\n",
    "        \n",
    "        self.alpha = 0.001\n",
    "        \n",
    "        self.epsilon = 1.0\n",
    "        self.epsilon_decay = 0.997\n",
    "        self.epsilon_min = 0.01\n",
    "        \n",
    "        self.model = self._build_model()\n",
    "        \n",
    "    def _build_model(self):\n",
    "        \n",
    "        model = models.Sequential()\n",
    "        model.add(layers.Dense(12, input_dim= self.state_size,\n",
    "                               activation='relu'))\n",
    "        model.add(layers.Dense(24, activation='relu'))\n",
    "        \n",
    "        model.add(layers.Dense(self.action_size, activation='linear'))\n",
    "        \n",
    "        model.compile(loss='mse', optimizer=\n",
    "                     optimizers.Adam(lr=self.alpha))\n",
    "        \n",
    "        return model\n",
    "    \n",
    "    def remember(self, state, action, reward, next_state, done):\n",
    "        \n",
    "        self.memory.append((state, action, reward, next_state, done))\n",
    "    \n",
    "    def action(self, state):\n",
    "        \n",
    "        if np.random.rand() <= self.epsilon:\n",
    "            return random.randrange(self.action_size)\n",
    "        \n",
    "        prediction = self.model.predict(state)\n",
    "        \n",
    "        return np.argmax(prediction[0])\n",
    "    \n",
    "    def train(self, batch_size):\n",
    "        \n",
    "        batch = random.sample(self.memory, batch_size)\n",
    "        \n",
    "        for state, action, reward, next_state, done in batch:\n",
    "            \n",
    "            target = reward\n",
    "            \n",
    "            if not done:\n",
    "                \n",
    "                target = (reward + self.gamma * \n",
    "                          np.amax(self.model.predict(next_state)[0]))\n",
    "                \n",
    "            target_y = self.model.predict(state)\n",
    "            \n",
    "            target_y[0][action] = target\n",
    "            \n",
    "            self.model.fit(state, target_y, epochs=1, verbose=0)\n",
    "            \n",
    "        if self.epsilon > self.epsilon_min:\n",
    "            self.epsilon *= self.epsilon_decay\n",
    "            \n",
    "    def load(self, name):\n",
    "        self.model.load_weights(name)\n",
    "        \n",
    "    def save(self, name):\n",
    "        self.model.save_weights(name)"
   ]
  },
  {
   "cell_type": "code",
   "execution_count": 6,
   "metadata": {},
   "outputs": [
    {
     "name": "stdout",
     "output_type": "stream",
     "text": [
      "_________________________________________________________________\n",
      "Layer (type)                 Output Shape              Param #   \n",
      "=================================================================\n",
      "dense_1 (Dense)              (None, 12)                60        \n",
      "_________________________________________________________________\n",
      "dense_2 (Dense)              (None, 24)                312       \n",
      "_________________________________________________________________\n",
      "dense_3 (Dense)              (None, 2)                 50        \n",
      "=================================================================\n",
      "Total params: 422\n",
      "Trainable params: 422\n",
      "Non-trainable params: 0\n",
      "_________________________________________________________________\n"
     ]
    }
   ],
   "source": [
    "agent = dqAgent(state_size, action_size)\n",
    "agent.model.summary()"
   ]
  },
  {
   "cell_type": "code",
   "execution_count": 9,
   "metadata": {},
   "outputs": [
    {
     "name": "stdout",
     "output_type": "stream",
     "text": [
      "Episode:0, score: 26.0, eps:1.0\n",
      "Episode:100, score: 3.0, eps:0.74\n",
      "Episode:200, score: 42.0, eps:0.55\n",
      "Episode:300, score: 90.0, eps:0.41\n",
      "Episode:400, score: 127.0, eps:0.3\n",
      "Episode:500, score: 189.0, eps:0.22\n",
      "Episode:600, score: 189.0, eps:0.16\n",
      "Episode:700, score: 189.0, eps:0.12\n",
      "Episode:800, score: 189.0, eps:0.09\n",
      "Episode:900, score: 189.0, eps:0.067\n"
     ]
    }
   ],
   "source": [
    "try:\n",
    "    for e in range(episodes):\n",
    "    \n",
    "        state = env.reset()\n",
    "        state = np.reshape(state, [1, state_size])\n",
    "\n",
    "        total_reward = 0\n",
    "        done = False\n",
    "\n",
    "        while not done:\n",
    "\n",
    "            action = agent.action(state)\n",
    "\n",
    "            next_state, reward, done, _ = env.step(action)\n",
    "\n",
    "            reward = reward if not done else -10\n",
    "\n",
    "            total_reward += reward\n",
    "\n",
    "            next_state = np.reshape(next_state, [1, state_size])\n",
    "            agent.remember(state, action, reward, next_state, done)\n",
    "\n",
    "            state = next_state\n",
    "\n",
    "        if e % 100 == 0:\n",
    "            print(f\"Episode:{e}, score: {total_reward}, eps:{agent.epsilon:.2}\")\n",
    "            agent.save(f\"{e:04d}.hdf5\")\n",
    "\n",
    "        if len(agent.memory) > batch_size:\n",
    "            agent.train(batch_size)\n",
    "        \n",
    "finally:\n",
    "    env.close()"
   ]
  },
  {
   "cell_type": "code",
   "execution_count": 16,
   "metadata": {},
   "outputs": [
    {
     "name": "stdout",
     "output_type": "stream",
     "text": [
      "Episode:0, score: 200.0\n",
      "Episode:1, score: 200.0\n",
      "Episode:2, score: 200.0\n",
      "Episode:3, score: 200.0\n",
      "Episode:4, score: 200.0\n"
     ]
    }
   ],
   "source": [
    "try:\n",
    "    for e in range(5):\n",
    "    \n",
    "        state = env.reset()\n",
    "        state = np.reshape(state, [1, state_size])\n",
    "\n",
    "        total_reward = 0\n",
    "        done = False\n",
    "\n",
    "        while not done:\n",
    "\n",
    "            env.render()\n",
    "            action = agent.action(state)\n",
    "\n",
    "            next_state, reward, done, _ = env.step(action)\n",
    "\n",
    "            total_reward += reward\n",
    "\n",
    "            next_state = np.reshape(next_state, [1, state_size])\n",
    "\n",
    "            state = next_state\n",
    "\n",
    "        print(f\"Episode:{e}, score: {total_reward}\")\n",
    "        \n",
    "finally:\n",
    "    env.close()"
   ]
  }
 ],
 "metadata": {
  "kernelspec": {
   "display_name": "Python 3",
   "language": "python",
   "name": "python3"
  },
  "language_info": {
   "codemirror_mode": {
    "name": "ipython",
    "version": 3
   },
   "file_extension": ".py",
   "mimetype": "text/x-python",
   "name": "python",
   "nbconvert_exporter": "python",
   "pygments_lexer": "ipython3",
   "version": "3.6.8"
  }
 },
 "nbformat": 4,
 "nbformat_minor": 2
}
