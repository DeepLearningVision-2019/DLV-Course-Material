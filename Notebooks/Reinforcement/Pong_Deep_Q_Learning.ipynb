{
  "nbformat": 4,
  "nbformat_minor": 0,
  "metadata": {
    "colab": {
      "name": "Pong Deep Q Learning.ipynb",
      "version": "0.3.2",
      "provenance": [],
      "collapsed_sections": []
    },
    "kernelspec": {
      "name": "python3",
      "display_name": "Python 3"
    },
    "accelerator": "GPU"
  },
  "cells": [
    {
      "metadata": {
        "id": "tAX6dynh1ENW",
        "colab_type": "text"
      },
      "cell_type": "markdown",
      "source": [
        "# Playing Pong with Deep Reinforcement Learning\n",
        "\n",
        "---\n",
        "\n",
        "Read the paper [Playing Atari with Deep Reinforcement Learning](https://arxiv.org/pdf/1312.5602.pdf) (the paper is also inside the 'Papers' folder in the course materials), and implement a model that can play atari games.\n",
        "\n",
        "The goals of this project are the following:\n",
        "\n",
        "- Read and understand the paper.\n",
        "- Add a brief summary of the paper at the start of the notebook.\n",
        "- Mention and implement the preprocessing needed; you can add your own steps if needed.\n",
        "- Load an Atari environment from OpenAI Gym; start with Pong, and try with at least one more.\n",
        "- Define the convolutional model needed for training.\n",
        "- Apply deep q learning with your model.\n",
        "- Use the model to play a game and show the result.\n",
        "\n",
        "**Rubric:**\n",
        "\n",
        "1. A summary of the paper was included. The summary covered what the paper does, and why, as well as the preprocessing steps and the model they introduced.\n",
        "2. Read images from the environment, and performed the correct preprocessing steps.\n",
        "3. Defined an agent class with the needed functions.\n",
        "4. Defined the model within the agent class.\n",
        "5. Trained the model with the Pong environment. Save the weights after each episode.\n",
        "6. Test the model by making it play Pong.\n",
        "7. Train and test the agent with another Atari environment of your choosing.\n"
      ]
    },
    {
      "metadata": {
        "id": "ahIZHdp12nY-",
        "colab_type": "text"
      },
      "cell_type": "markdown",
      "source": [
        "## Add a summary of the paper in this cell"
      ]
    },
    {
      "metadata": {
        "id": "NrmWWhzE1Vg1",
        "colab_type": "text"
      },
      "cell_type": "markdown",
      "source": [
        "### Basic installs and imports for Colab"
      ]
    },
    {
      "metadata": {
        "id": "cmTlRpCTiUeo",
        "colab_type": "code",
        "outputId": "5caa9644-6ff5-4c5a-cc3b-27869dd6c8e1",
        "colab": {
          "base_uri": "https://localhost:8080/",
          "height": 34
        }
      },
      "cell_type": "code",
      "source": [
        "#remove \" > /dev/null 2>&1\" to see what is going on under the hood\n",
        "!pip install gym pyvirtualdisplay > /dev/null 2>&1\n",
        "!apt-get install -y xvfb python-opengl ffmpeg > /dev/null 2>&1\n",
        "!apt-get update > /dev/null 2>&1\n",
        "!apt-get install cmake > /dev/null 2>&1\n",
        "!pip install --upgrade setuptools 2>&1\n",
        "!pip install ez_setup > /dev/null 2>&1\n",
        "!pip install gym[atari] > /dev/null 2>&1\n",
        "!pip install gym[box2d] > /dev/null 2>&1"
      ],
      "execution_count": 0,
      "outputs": [
        {
          "output_type": "stream",
          "text": [
            "Requirement already up-to-date: setuptools in /usr/local/lib/python3.6/dist-packages (41.0.1)\n"
          ],
          "name": "stdout"
        }
      ]
    },
    {
      "metadata": {
        "id": "SOAgdSpoi8Md",
        "colab_type": "code",
        "outputId": "d2b9eb37-5547-4fb5-c1b0-733c7be15684",
        "colab": {
          "base_uri": "https://localhost:8080/",
          "height": 34
        }
      },
      "cell_type": "code",
      "source": [
        "import gym\n",
        "from gym import logger as gymlogger\n",
        "from gym.wrappers import Monitor\n",
        "\n",
        "import matplotlib\n",
        "import matplotlib.pyplot as plt\n",
        "\n",
        "import cv2\n",
        "import numpy as np\n",
        "import random, math\n",
        "\n",
        "from keras import models, layers, optimizers\n",
        "\n",
        "from collections import deque\n",
        "\n",
        "import glob, io, base64\n",
        "\n",
        "from IPython.display import HTML\n",
        "from IPython import display as ipythondisplay\n",
        "from pyvirtualdisplay import Display\n",
        "\n",
        "gymlogger.set_level(40) #error only\n",
        "%matplotlib inline"
      ],
      "execution_count": 0,
      "outputs": [
        {
          "output_type": "stream",
          "text": [
            "Using TensorFlow backend.\n"
          ],
          "name": "stderr"
        }
      ]
    },
    {
      "metadata": {
        "id": "JCXxMUco1aoh",
        "colab_type": "text"
      },
      "cell_type": "markdown",
      "source": [
        "### Functions that wraps a video in colab"
      ]
    },
    {
      "metadata": {
        "id": "xguRhza7jSRD",
        "colab_type": "code",
        "colab": {}
      },
      "cell_type": "code",
      "source": [
        "\"\"\"\n",
        "Utility functions to enable video recording of gym environment and displaying it\n",
        "To enable video, just do \"env = wrap_env(env)\"\"\n",
        "\"\"\"\n",
        "\n",
        "def show_video():\n",
        "  mp4list = glob.glob('video/*.mp4')\n",
        "  if len(mp4list) > 0:\n",
        "    mp4 = mp4list[0]\n",
        "    video = io.open(mp4, 'r+b').read()\n",
        "    encoded = base64.b64encode(video)\n",
        "    ipythondisplay.display(HTML(data='''<video alt=\"test\" autoplay \n",
        "                loop controls style=\"height: 400px;\">\n",
        "                <source src=\"data:video/mp4;base64,{0}\" type=\"video/mp4\" />\n",
        "             </video>'''.format(encoded.decode('ascii'))))\n",
        "  else: \n",
        "    print(\"Could not find video\")\n",
        "    \n",
        "\n",
        "def wrap_env(env):\n",
        "  env = Monitor(env, './video', force=True)\n",
        "  return env"
      ],
      "execution_count": 0,
      "outputs": []
    },
    {
      "metadata": {
        "id": "2HI_wN3OjVd2",
        "colab_type": "code",
        "outputId": "1b836643-39db-4f25-ba63-3f3ef83eb015",
        "colab": {
          "base_uri": "https://localhost:8080/",
          "height": 54
        }
      },
      "cell_type": "code",
      "source": [
        "display = Display(visible=0, size=(1400, 900))\n",
        "display.start()"
      ],
      "execution_count": 0,
      "outputs": [
        {
          "output_type": "execute_result",
          "data": {
            "text/plain": [
              "<Display cmd_param=['Xvfb', '-br', '-nolisten', 'tcp', '-screen', '0', '1400x900x24', ':1007'] cmd=['Xvfb', '-br', '-nolisten', 'tcp', '-screen', '0', '1400x900x24', ':1007'] oserror=None return_code=None stdout=\"None\" stderr=\"None\" timeout_happened=False>"
            ]
          },
          "metadata": {
            "tags": []
          },
          "execution_count": 4
        }
      ]
    },
    {
      "metadata": {
        "id": "6OtOEN9Cc9Zx",
        "colab_type": "code",
        "outputId": "a66dbc7c-5221-4f50-dd0e-1b787a2e83a1",
        "colab": {
          "base_uri": "https://localhost:8080/",
          "height": 289
        }
      },
      "cell_type": "code",
      "source": [
        "!ls video"
      ],
      "execution_count": 0,
      "outputs": [
        {
          "output_type": "stream",
          "text": [
            "openaigym.episode_batch.4.5389.stats.json\n",
            "openaigym.manifest.4.5389.manifest.json\n",
            "openaigym.video.4.5389.video000000.meta.json\n",
            "openaigym.video.4.5389.video000000.mp4\n",
            "openaigym.video.4.5389.video000001.meta.json\n",
            "openaigym.video.4.5389.video000001.mp4\n",
            "openaigym.video.4.5389.video000008.meta.json\n",
            "openaigym.video.4.5389.video000008.mp4\n",
            "openaigym.video.4.5389.video000027.meta.json\n",
            "openaigym.video.4.5389.video000027.mp4\n",
            "openaigym.video.4.5389.video000064.meta.json\n",
            "openaigym.video.4.5389.video000064.mp4\n",
            "openaigym.video.4.5389.video000125.meta.json\n",
            "openaigym.video.4.5389.video000125.mp4\n",
            "openaigym.video.4.5389.video000216.meta.json\n",
            "openaigym.video.4.5389.video000216.mp4\n"
          ],
          "name": "stdout"
        }
      ]
    },
    {
      "metadata": {
        "id": "C3jpZDbFjJu8",
        "colab_type": "code",
        "outputId": "8c387b6d-d9fd-425d-bb42-0baa94207fb6",
        "colab": {
          "base_uri": "https://localhost:8080/",
          "height": 68
        }
      },
      "cell_type": "code",
      "source": [
        "# Loads the cartpole environment\n",
        "env = wrap_env(gym.make('PongDeterministic-v4'))\n",
        "\n",
        "state_size = env.observation_space.shape[0]\n",
        "action_size = env.action_space.n\n",
        "\n",
        "print(state_size, action_size)\n",
        "\n",
        "actions = env.unwrapped.get_action_meanings()\n",
        "\n",
        "# right is up, left is down\n",
        "print(actions)\n",
        "\n",
        "batch_size = 32\n",
        "\n",
        "n_episodes = 10000\n",
        "\n",
        "print(np.random.choice([2,3]))"
      ],
      "execution_count": 0,
      "outputs": [
        {
          "output_type": "stream",
          "text": [
            "210 6\n",
            "['NOOP', 'FIRE', 'RIGHT', 'LEFT', 'RIGHTFIRE', 'LEFTFIRE']\n",
            "3\n"
          ],
          "name": "stdout"
        }
      ]
    },
    {
      "metadata": {
        "id": "GeYGaLVfjhKl",
        "colab_type": "code",
        "outputId": "60712e6b-c3bf-47e3-be11-7b6aa78e2aae",
        "colab": {
          "base_uri": "https://localhost:8080/",
          "height": 421
        }
      },
      "cell_type": "code",
      "source": [
        "env = wrap_env(gym.make('PongDeterministic-v4'))\n",
        "observation = env.reset()\n",
        "\n",
        "while True:\n",
        "  \n",
        "    env.render()\n",
        "    \n",
        "    #your agent goes here\n",
        "    action = np.random.choice([0, 2,3])\n",
        "    #action = env.action_space.sample() \n",
        "    \n",
        "    observation, reward, done, info = env.step(action) \n",
        "\n",
        "    if done: \n",
        "      break;\n",
        "            \n",
        "env.close()\n",
        "show_video()"
      ],
      "execution_count": 0,
      "outputs": [
        {
          "output_type": "display_data",
          "data": {
            "text/html": [
              "<video alt=\"test\" autoplay \n",
              "                loop controls style=\"height: 400px;\">\n",
              "                <source src=\"data:video/mp4;base64,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\" type=\"video/mp4\" />\n",
              "             </video>"
            ],
            "text/plain": [
              "<IPython.core.display.HTML object>"
            ]
          },
          "metadata": {
            "tags": []
          }
        }
      ]
    },
    {
      "metadata": {
        "id": "Q1qPElHYmVhT",
        "colab_type": "text"
      },
      "cell_type": "markdown",
      "source": [
        "## Paper notes\n",
        "\n",
        "Authors present the first deep learning model to successfully learn control policies directly from high-dimensional sensory input using reinforcement learning:\n",
        "\n",
        "- High dimensional input: sensory inputs like vision and speech\n",
        "\n",
        "- The model is a convolutional neural network, trained with a variant of Q-learning, whose input is raw pixels and whose output is a value function estimating future rewards. \n",
        "\n",
        "- Applied to seven Atari games, outperforming all previous approaches on six of the games and surpassing a human expert on three of them.\n",
        "\n",
        "### Issues\n",
        "\n",
        "- Most successful RL applications that operate on high dimensional domains have relied on hand-crafted features combined with linear value functions or policy representations. Performance of such systems heavily relies on the quality of the feature representation.\n",
        "\n",
        "- Most deep learning algorithms assume the data samples to be independent, while in reinforcement learning one typically encounters sequences of highly correlated states.\n",
        "\n",
        "- In RL the data distribution changes as the algorithm learns new behaviours, which can be problematic for deep learning methods that assume a fixed underlying distribution.\n",
        "\n",
        "To alleviate the problems of correlated data and non-stationary distributions, we use an experience replay mechanism,] which randomly samples previous transitions, and thereby smooths the training distribution over many past behaviors.\n",
        "\n",
        "- Experience replay: we store the agent’s experiences at each time-step, $e_t = (s_t; a_t; r_t; st+1)$ in a data-set $D = e_1; \\dots; e_N$, pooled over many episodes into a replay memory.\n",
        "\n",
        "- During the inner loop of the algorithm, we apply Q-learning updates, or minibatch updates, to samples of experience drawn at random from the pool of stored samples.\n",
        "\n",
        "### Background\n",
        "\n",
        "Consider tasks in which an agent interacts with an environment $\\varepsilon$, in this case the Atari emulator, in a sequence of actions, observations and rewards. At each time-step the agent selects an action $a_t$ from the set of legal game actions, $A = \\{1; \\dots ;K\\}$. The emulator’s\n",
        "internal state is not observed by the agent; instead it observes an image $x_t \\in \\mathbb{R}^d$ from the emulator, which is a vector of raw pixel values representing the current screen.\n",
        "\n",
        "**Note that in general the game score may depend on the whole prior sequence of actions and observations; feedback about an action may only be received after many thousands of time-steps have elapsed.**\n",
        "\n",
        "Since the agent only observes images of the current screen, the task is partially observed, i.e. it is impossible to fully understand the current situation from only the current screen $x_t$. We therefore consider sequences of actions and observations, $s_t = x_1; a_1; x_2;\\dots; a_{t-1}; x_t$, and learn game strategies that depend upon these sequences. \n",
        "\n",
        "All sequencesin the emulator are assumed to terminate in a finite number of time-steps. This formalism gives rise to a large but finite Markov decision process (MDP) in which each sequence is a distinct state.\n",
        "\n",
        "- Markov decision process (MDP): A Markov decision process (MDP) is a discrete time stochastic control process. It provides a mathematical framework for modeling decision making in situations where outcomes are partly random and partly under the control of a decision maker. MDPs are useful for studying optimization problems solved via dynamic programming and reinforcement learning.\n",
        "\n",
        "  - A Markov decision process is a 4-tuple $(S,A,P_{a},R_{a})$\n",
        "  - $S$ is a finite set of states\n",
        "  - $A$ is a finite set of actions (alternatively, $A_s$ is the finite set of actions available from state $s$),\n",
        "  - $P_{a}(s,s')=\\Pr(s_{t+1}=s' | s_{t}=s,a_{t}=a)$ is the probability that action a in state s at time t will lead to state s' at time t+1\n",
        "  - $R_{a}(s,s')$ is the immediate reward (or expected immediate reward) received after transitioning from state s to state s', due to action a\n",
        "  \n",
        "The goal of the agent is to interact with the emulator by selecting actions in a way that maximises future rewards. We make the standard assumption that future rewards are discounted by a factor of $\\gamma$ per time-step, and define the future discounted return at time $t$ as \n",
        "\n",
        "$R_t = \\sum_{t'=t}^T \\gamma^{t'-t} r_t$\n",
        "\n",
        "where T is the time-step at which the game terminates.\n",
        "\n",
        "We define the optimal action-value function $Q^*(s, a)$ as the maximum expected return achievable by following any strategy, after seeing some sequence $s$ and then taking some action $a$, $Q^*(s, a) = max_\\pi \\mathbb{E}[R_t | s_t = s; a_t = a, \\pi]$, where $\\pi$ is a policy mapping sequences to actions (or distributions over actions).\n",
        "\n",
        "The optimal strategy is to select the action $a'$ maximizing the expected value, $\\mathbb{E}$, of $r + \\gamma Q^*(s', a')$:\n",
        "\n",
        "$Q^*(s,a) = \\mathbb{E}_{s'\\sim\\varepsilon}[r + \\gamma max_a'Q^*(s',a') | s, a]$\n",
        "\n",
        "To estimate the action-value function, the $Q^*$ function, it is common to use a function approximator; in this case a neural network. The function is as follows:\n",
        "\n",
        "$Q(s, a; \\theta)\\approx Q^*(s,a)$\n",
        "\n",
        "where $\\theta$ are the weights of the Q-network. The network can be trained by minimising a sequence of loss functions $L_i(\\theta_i)$ that changes at each iteration, $i$:\n",
        "\n",
        "$L_i (\\theta_i)=\\mathbb{E}[(y_i - Q(s, a;\\theta_i))^2]$\n",
        "\n",
        "where $y_i = \\mathbb{E}[r + \\gamma max_{a'}Q(s', a'; \\theta_{i-1})|s, a]$\n",
        "\n",
        "### Algorithm\n",
        "\n"
      ]
    },
    {
      "metadata": {
        "id": "h3Ww0L4w1hE4",
        "colab_type": "text"
      },
      "cell_type": "markdown",
      "source": [
        "## Define the Deep Q learning Agent"
      ]
    },
    {
      "metadata": {
        "id": "nbtt8Frsjvm8",
        "colab_type": "code",
        "colab": {}
      },
      "cell_type": "code",
      "source": [
        "class DQNAgent:\n",
        "    \n",
        "    def __init__(self, state_size, action_size):\n",
        "      \n",
        "        self.state_size = state_size\n",
        "        self.action_size = action_size\n",
        "        \n",
        "        # Events that are near in time are too coralated and do not give aditional information\n",
        "        # we will use moves that are further separated in time\n",
        "        self.max_memory = 300000\n",
        "        self.memory = [] #deque(maxlen=800000)\n",
        "        \n",
        "        # Discount factor\n",
        "        self.gamma = 0.99\n",
        "        \n",
        "        # Exploration\n",
        "        self.epsilon = 1.0\n",
        "        self.epsilon_min = 0.1\n",
        "        self.epsilon_decay = (1-self.epsilon_min) / 1000\n",
        "        \n",
        "        print(self.epsilon_decay)\n",
        "        \n",
        "        self.learning_rate = 0.00025\n",
        "        \n",
        "        self.model = self._build_model()\n",
        "        \n",
        "\n",
        "    def _build_model(self):\n",
        "        \n",
        "        model = models.Sequential()\n",
        "        \n",
        "        model.add(layers.Conv2D(16, kernel_size = (8,8), strides=(4,4), \n",
        "                                padding = 'valid', \n",
        "                                kernel_initializer='glorot_uniform', \n",
        "                                input_shape=(84, 84, 4)))\n",
        "        model.add(layers.LeakyReLU(alpha=0.3))\n",
        "        model.add(layers.Conv2D(32, kernel_size = (4,4), strides=(2,2), \n",
        "                                padding = 'valid',\n",
        "                                kernel_initializer='glorot_uniform'))\n",
        "        model.add(layers.LeakyReLU(alpha=0.3))\n",
        "\n",
        "        model.add(layers.Flatten())\n",
        "        model.add(layers.Dense(256, kernel_initializer='glorot_uniform', \n",
        "                               activation='relu'))\n",
        "        model.add(layers.Dense(self.action_size, \n",
        "                               kernel_initializer='glorot_uniform', activation='linear'))\n",
        "        \n",
        "        model.compile(loss='mse', optimizer= optimizers.RMSprop(lr=self.learning_rate, rho=0.95, epsilon=0.01))\n",
        "        \n",
        "        return model\n",
        "    \n",
        "    def remember(self, state, action, reward, next_state, done):\n",
        "        '''\n",
        "            state, action, reward at current time\n",
        "            next_state is the state that occurs after the state-action\n",
        "            done is if the episode ended\n",
        "        '''\n",
        "        if len(self.memory) > self.max_memory:\n",
        "          self.memory.pop(0)\n",
        "          \n",
        "        self.memory.append((state, action, reward, next_state, done))\n",
        "        \n",
        "    def action(self, state):\n",
        "        \n",
        "        # Exploration mode\n",
        "        if np.random.rand() <= self.epsilon:\n",
        "            #return np.random.choice([0,2,3])\n",
        "            return random.randrange(self.action_size)\n",
        "        \n",
        "        # Use what action is predicted by the model as the best choice\n",
        "        act_values = self.model.predict(state)\n",
        "        \n",
        "        return np.argmax(act_values[0])\n",
        "      \n",
        "    def get_batch(self, batch_size):\n",
        "        \n",
        "        minibatch = random.sample(range(4, len(self.memory)), batch_size)\n",
        "\n",
        "        batch = [\n",
        "            (\n",
        "                np.expand_dims(np.stack((self.memory[i-3][0], self.memory[i-2][0], self.memory[i-1][0], self.memory[i][0]), axis = 2), axis = 0),\n",
        "                self.memory[i][1],\n",
        "                np.sum((self.memory[i-3][2], self.memory[i-2][2], self.memory[i-1][2], self.memory[i][2])),\n",
        "                np.expand_dims(np.stack((self.memory[i-3][3], self.memory[i-2][3], self.memory[i-1][3], self.memory[i][3]), axis = 2), axis = 0),\n",
        "                self.memory[i][4]\n",
        "            ) for i in minibatch\n",
        "        ]\n",
        "        \n",
        "        return batch\n",
        "      \n",
        "    def train(self, batch_size):\n",
        "        \n",
        "        #minibatch = random.sample(self.memory, batch_size)\n",
        "        batch = self.get_batch(batch_size)\n",
        "        \n",
        "        for state, action, reward, next_state, done in batch:\n",
        "            \n",
        "            target = reward\n",
        "            \n",
        "            if not done:\n",
        "                target = (reward + self.gamma * np.amax(self.model.predict(next_state)[0]))\n",
        "                \n",
        "            target_f = self.model.predict(state)\n",
        "            \n",
        "            target_f[0][action] = target\n",
        "            \n",
        "            self.model.fit(state, target_f, epochs=1, verbose=0)\n",
        "            \n",
        "        if self.epsilon > self.epsilon_min:\n",
        "            self.epsilon -= self.epsilon_decay\n",
        "    \n",
        "           \n",
        "    def load(self, name):\n",
        "        self.model.load_weights(name)\n",
        "        \n",
        "    def save(self, name):\n",
        "        self.model.save_weights(name)"
      ],
      "execution_count": 0,
      "outputs": []
    },
    {
      "metadata": {
        "id": "jyAVZOyPjzTr",
        "colab_type": "code",
        "outputId": "8f4af8d5-ddcb-4ccf-e8bd-e63b7f1f45f6",
        "colab": {
          "base_uri": "https://localhost:8080/",
          "height": 462
        }
      },
      "cell_type": "code",
      "source": [
        "agent = DQNAgent(state_size, action_size)\n",
        "agent.model.summary()"
      ],
      "execution_count": 0,
      "outputs": [
        {
          "output_type": "stream",
          "text": [
            "0.0009\n",
            "WARNING:tensorflow:From /usr/local/lib/python3.6/dist-packages/tensorflow/python/framework/op_def_library.py:263: colocate_with (from tensorflow.python.framework.ops) is deprecated and will be removed in a future version.\n",
            "Instructions for updating:\n",
            "Colocations handled automatically by placer.\n",
            "_________________________________________________________________\n",
            "Layer (type)                 Output Shape              Param #   \n",
            "=================================================================\n",
            "conv2d_1 (Conv2D)            (None, 20, 20, 16)        4112      \n",
            "_________________________________________________________________\n",
            "leaky_re_lu_1 (LeakyReLU)    (None, 20, 20, 16)        0         \n",
            "_________________________________________________________________\n",
            "conv2d_2 (Conv2D)            (None, 9, 9, 32)          8224      \n",
            "_________________________________________________________________\n",
            "leaky_re_lu_2 (LeakyReLU)    (None, 9, 9, 32)          0         \n",
            "_________________________________________________________________\n",
            "flatten_1 (Flatten)          (None, 2592)              0         \n",
            "_________________________________________________________________\n",
            "dense_1 (Dense)              (None, 256)               663808    \n",
            "_________________________________________________________________\n",
            "dense_2 (Dense)              (None, 6)                 1542      \n",
            "=================================================================\n",
            "Total params: 677,686\n",
            "Trainable params: 677,686\n",
            "Non-trainable params: 0\n",
            "_________________________________________________________________\n"
          ],
          "name": "stdout"
        }
      ]
    },
    {
      "metadata": {
        "id": "94rKT1nj1nMj",
        "colab_type": "text"
      },
      "cell_type": "markdown",
      "source": [
        "### Needed preprocessing steps"
      ]
    },
    {
      "metadata": {
        "id": "F0YR2iCYd4OV",
        "colab_type": "code",
        "colab": {}
      },
      "cell_type": "code",
      "source": [
        "def preprocessFrame(image):\n",
        "  \n",
        "  # Grayscale\n",
        "  gray_img = cv2.cvtColor(image, cv2.COLOR_BGR2GRAY)\n",
        "  \n",
        "  # Reize\n",
        "  resized_img = cv2.resize(gray_img, (84, 110))\n",
        "  \n",
        "  # Crop\n",
        "  cropped_img = resized_img[16:100, 0:84]\n",
        "  \n",
        "  # Normalized\n",
        "  normalized_img = cv2.normalize(cropped_img, None, alpha=0, beta=1, norm_type=cv2.NORM_MINMAX, dtype=cv2.CV_32F)\n",
        "  \n",
        "  return normalized_img"
      ],
      "execution_count": 0,
      "outputs": []
    },
    {
      "metadata": {
        "id": "OVf_LPgl1u3n",
        "colab_type": "text"
      },
      "cell_type": "markdown",
      "source": [
        "## Training with the environment images"
      ]
    },
    {
      "metadata": {
        "id": "eHcl0-LAj38H",
        "colab_type": "code",
        "outputId": "0bca1dfd-e74a-40f4-f1ed-f5c23593d241",
        "colab": {
          "base_uri": "https://localhost:8080/",
          "height": 837
        }
      },
      "cell_type": "code",
      "source": [
        "env = wrap_env(gym.make('PongDeterministic-v4'))\n",
        "\n",
        "try:\n",
        "    for e in range(n_episodes):\n",
        "        \n",
        "        state = preprocessFrame(env.reset())\n",
        "        states = deque((state, state, state, state), maxlen=4)\n",
        "        states_tensor = None\n",
        "        total_reward = 0\n",
        "        done = False\n",
        "        \n",
        "        while not done:\n",
        "            \n",
        "            #env.render()\n",
        "            states_tensor = np.stack((states), axis = 2).reshape((1, 84, 84, 4))\n",
        "            \n",
        "            # Takes a random action from the action space of the environment\n",
        "            action = agent.action(states_tensor)\n",
        "            \n",
        "            next_state, reward, done, info = env.step(action)\n",
        "            next_state = preprocessFrame(next_state)\n",
        "            \n",
        "            # Define the reward for this problem\n",
        "            total_reward += reward\n",
        "            \n",
        "            agent.remember(state, action, total_reward, next_state, done)\n",
        "            \n",
        "            state = next_state\n",
        "            states.append(next_state)\n",
        "        \n",
        "            if len(agent.memory) > batch_size + 4:\n",
        "              agent.train(batch_size)\n",
        "        \n",
        "        if e%50 == 0:\n",
        "          print(\"Episode: {}/{}, score: {}, e: {:.9}, m: {}\".format(e, n_episodes, total_reward, agent.epsilon, len(agent.memory)))\n",
        "        \n",
        "        agent.save('max_reward_weights.hdf5')\n",
        "                \n",
        "        \n",
        "finally:\n",
        "    env.close()\n",
        "\n",
        "# f, plots = plt.subplots(1, 4, figsize=(20,20))\n",
        "# plots = [plot for plot in plots]\n",
        "# imgs = [states_tensor[0,:,:,i] for i in range(4)]\n",
        "\n",
        "# for img, plot in zip(imgs, plots):\n",
        "#     plot.imshow(img, cmap='gray')\n",
        "    \n",
        "# preprocess = preprocessFrame(state)\n",
        "#plt.imshow(states_tensor[0,:,:,0], cmap = 'gray')\n",
        "# print(preprocess, preprocess.shape)"
      ],
      "execution_count": 0,
      "outputs": [
        {
          "output_type": "stream",
          "text": [
            "WARNING:tensorflow:From /usr/local/lib/python3.6/dist-packages/tensorflow/python/ops/math_ops.py:3066: to_int32 (from tensorflow.python.ops.math_ops) is deprecated and will be removed in a future version.\n",
            "Instructions for updating:\n",
            "Use tf.cast instead.\n",
            "Episode: 0/10000, score: -21.0, e: 0.9991, m: 854\n",
            "Episode: 50/10000, score: -21.0, e: 0.9541, m: 47180\n",
            "Episode: 100/10000, score: -21.0, e: 0.9091, m: 91952\n",
            "Episode: 150/10000, score: -21.0, e: 0.8641, m: 136505\n",
            "Episode: 200/10000, score: -21.0, e: 0.8191, m: 180138\n",
            "Episode: 250/10000, score: -21.0, e: 0.7741, m: 222323\n",
            "Episode: 300/10000, score: -21.0, e: 0.7291, m: 263722\n",
            "Episode: 350/10000, score: -21.0, e: 0.6841, m: 300001\n",
            "Episode: 400/10000, score: -21.0, e: 0.6391, m: 300001\n",
            "Episode: 450/10000, score: -21.0, e: 0.5941, m: 300001\n",
            "Episode: 500/10000, score: -21.0, e: 0.5491, m: 300001\n",
            "Episode: 550/10000, score: -21.0, e: 0.5041, m: 300001\n",
            "Episode: 600/10000, score: -21.0, e: 0.4591, m: 300001\n",
            "Episode: 650/10000, score: -21.0, e: 0.4141, m: 300001\n",
            "Episode: 700/10000, score: -21.0, e: 0.3691, m: 300001\n",
            "Episode: 750/10000, score: -21.0, e: 0.3241, m: 300001\n",
            "Episode: 800/10000, score: -20.0, e: 0.2791, m: 300001\n",
            "Episode: 850/10000, score: -21.0, e: 0.2341, m: 300001\n",
            "Episode: 900/10000, score: -21.0, e: 0.1891, m: 300001\n",
            "Episode: 950/10000, score: -21.0, e: 0.1441, m: 300001\n",
            "Episode: 1000/10000, score: -20.0, e: 0.1, m: 300001\n",
            "Episode: 1050/10000, score: -21.0, e: 0.1, m: 300001\n",
            "Episode: 1100/10000, score: -21.0, e: 0.1, m: 300001\n"
          ],
          "name": "stdout"
        },
        {
          "output_type": "error",
          "ename": "KeyboardInterrupt",
          "evalue": "ignored",
          "traceback": [
            "\u001b[0;31m---------------------------------------------------------------------------\u001b[0m",
            "\u001b[0;31mKeyboardInterrupt\u001b[0m                         Traceback (most recent call last)",
            "\u001b[0;32m<ipython-input-11-f9f9d89101d4>\u001b[0m in \u001b[0;36m<module>\u001b[0;34m()\u001b[0m\n\u001b[1;32m     30\u001b[0m \u001b[0;34m\u001b[0m\u001b[0m\n\u001b[1;32m     31\u001b[0m         \u001b[0;32mif\u001b[0m \u001b[0mlen\u001b[0m\u001b[0;34m(\u001b[0m\u001b[0magent\u001b[0m\u001b[0;34m.\u001b[0m\u001b[0mmemory\u001b[0m\u001b[0;34m)\u001b[0m \u001b[0;34m>\u001b[0m \u001b[0mbatch_size\u001b[0m \u001b[0;34m+\u001b[0m \u001b[0;36m4\u001b[0m\u001b[0;34m:\u001b[0m\u001b[0;34m\u001b[0m\u001b[0;34m\u001b[0m\u001b[0m\n\u001b[0;32m---> 32\u001b[0;31m           \u001b[0magent\u001b[0m\u001b[0;34m.\u001b[0m\u001b[0mtrain\u001b[0m\u001b[0;34m(\u001b[0m\u001b[0mbatch_size\u001b[0m\u001b[0;34m)\u001b[0m\u001b[0;34m\u001b[0m\u001b[0;34m\u001b[0m\u001b[0m\n\u001b[0m\u001b[1;32m     33\u001b[0m \u001b[0;34m\u001b[0m\u001b[0m\n\u001b[1;32m     34\u001b[0m         \u001b[0;32mif\u001b[0m \u001b[0me\u001b[0m\u001b[0;34m%\u001b[0m\u001b[0;36m50\u001b[0m \u001b[0;34m==\u001b[0m \u001b[0;36m0\u001b[0m\u001b[0;34m:\u001b[0m\u001b[0;34m\u001b[0m\u001b[0;34m\u001b[0m\u001b[0m\n",
            "\u001b[0;32m<ipython-input-8-74d624ba175b>\u001b[0m in \u001b[0;36mtrain\u001b[0;34m(self, batch_size)\u001b[0m\n\u001b[1;32m     99\u001b[0m \u001b[0;34m\u001b[0m\u001b[0m\n\u001b[1;32m    100\u001b[0m             \u001b[0;32mif\u001b[0m \u001b[0;32mnot\u001b[0m \u001b[0mdone\u001b[0m\u001b[0;34m:\u001b[0m\u001b[0;34m\u001b[0m\u001b[0;34m\u001b[0m\u001b[0m\n\u001b[0;32m--> 101\u001b[0;31m                 \u001b[0mtarget\u001b[0m \u001b[0;34m=\u001b[0m \u001b[0;34m(\u001b[0m\u001b[0mreward\u001b[0m \u001b[0;34m+\u001b[0m \u001b[0mself\u001b[0m\u001b[0;34m.\u001b[0m\u001b[0mgamma\u001b[0m \u001b[0;34m*\u001b[0m \u001b[0mnp\u001b[0m\u001b[0;34m.\u001b[0m\u001b[0mamax\u001b[0m\u001b[0;34m(\u001b[0m\u001b[0mself\u001b[0m\u001b[0;34m.\u001b[0m\u001b[0mmodel\u001b[0m\u001b[0;34m.\u001b[0m\u001b[0mpredict\u001b[0m\u001b[0;34m(\u001b[0m\u001b[0mnext_state\u001b[0m\u001b[0;34m)\u001b[0m\u001b[0;34m[\u001b[0m\u001b[0;36m0\u001b[0m\u001b[0;34m]\u001b[0m\u001b[0;34m)\u001b[0m\u001b[0;34m)\u001b[0m\u001b[0;34m\u001b[0m\u001b[0;34m\u001b[0m\u001b[0m\n\u001b[0m\u001b[1;32m    102\u001b[0m \u001b[0;34m\u001b[0m\u001b[0m\n\u001b[1;32m    103\u001b[0m             \u001b[0mtarget_f\u001b[0m \u001b[0;34m=\u001b[0m \u001b[0mself\u001b[0m\u001b[0;34m.\u001b[0m\u001b[0mmodel\u001b[0m\u001b[0;34m.\u001b[0m\u001b[0mpredict\u001b[0m\u001b[0;34m(\u001b[0m\u001b[0mstate\u001b[0m\u001b[0;34m)\u001b[0m\u001b[0;34m\u001b[0m\u001b[0;34m\u001b[0m\u001b[0m\n",
            "\u001b[0;32m/usr/local/lib/python3.6/dist-packages/keras/engine/training.py\u001b[0m in \u001b[0;36mpredict\u001b[0;34m(self, x, batch_size, verbose, steps)\u001b[0m\n\u001b[1;32m   1167\u001b[0m                                             \u001b[0mbatch_size\u001b[0m\u001b[0;34m=\u001b[0m\u001b[0mbatch_size\u001b[0m\u001b[0;34m,\u001b[0m\u001b[0;34m\u001b[0m\u001b[0;34m\u001b[0m\u001b[0m\n\u001b[1;32m   1168\u001b[0m                                             \u001b[0mverbose\u001b[0m\u001b[0;34m=\u001b[0m\u001b[0mverbose\u001b[0m\u001b[0;34m,\u001b[0m\u001b[0;34m\u001b[0m\u001b[0;34m\u001b[0m\u001b[0m\n\u001b[0;32m-> 1169\u001b[0;31m                                             steps=steps)\n\u001b[0m\u001b[1;32m   1170\u001b[0m \u001b[0;34m\u001b[0m\u001b[0m\n\u001b[1;32m   1171\u001b[0m     def train_on_batch(self, x, y,\n",
            "\u001b[0;32m/usr/local/lib/python3.6/dist-packages/keras/engine/training_arrays.py\u001b[0m in \u001b[0;36mpredict_loop\u001b[0;34m(model, f, ins, batch_size, verbose, steps)\u001b[0m\n\u001b[1;32m    292\u001b[0m                 \u001b[0mins_batch\u001b[0m\u001b[0;34m[\u001b[0m\u001b[0mi\u001b[0m\u001b[0;34m]\u001b[0m \u001b[0;34m=\u001b[0m \u001b[0mins_batch\u001b[0m\u001b[0;34m[\u001b[0m\u001b[0mi\u001b[0m\u001b[0;34m]\u001b[0m\u001b[0;34m.\u001b[0m\u001b[0mtoarray\u001b[0m\u001b[0;34m(\u001b[0m\u001b[0;34m)\u001b[0m\u001b[0;34m\u001b[0m\u001b[0;34m\u001b[0m\u001b[0m\n\u001b[1;32m    293\u001b[0m \u001b[0;34m\u001b[0m\u001b[0m\n\u001b[0;32m--> 294\u001b[0;31m             \u001b[0mbatch_outs\u001b[0m \u001b[0;34m=\u001b[0m \u001b[0mf\u001b[0m\u001b[0;34m(\u001b[0m\u001b[0mins_batch\u001b[0m\u001b[0;34m)\u001b[0m\u001b[0;34m\u001b[0m\u001b[0;34m\u001b[0m\u001b[0m\n\u001b[0m\u001b[1;32m    295\u001b[0m             \u001b[0mbatch_outs\u001b[0m \u001b[0;34m=\u001b[0m \u001b[0mto_list\u001b[0m\u001b[0;34m(\u001b[0m\u001b[0mbatch_outs\u001b[0m\u001b[0;34m)\u001b[0m\u001b[0;34m\u001b[0m\u001b[0;34m\u001b[0m\u001b[0m\n\u001b[1;32m    296\u001b[0m             \u001b[0;32mif\u001b[0m \u001b[0mbatch_index\u001b[0m \u001b[0;34m==\u001b[0m \u001b[0;36m0\u001b[0m\u001b[0;34m:\u001b[0m\u001b[0;34m\u001b[0m\u001b[0;34m\u001b[0m\u001b[0m\n",
            "\u001b[0;32m/usr/local/lib/python3.6/dist-packages/keras/backend/tensorflow_backend.py\u001b[0m in \u001b[0;36m__call__\u001b[0;34m(self, inputs)\u001b[0m\n\u001b[1;32m   2713\u001b[0m                 \u001b[0;32mreturn\u001b[0m \u001b[0mself\u001b[0m\u001b[0;34m.\u001b[0m\u001b[0m_legacy_call\u001b[0m\u001b[0;34m(\u001b[0m\u001b[0minputs\u001b[0m\u001b[0;34m)\u001b[0m\u001b[0;34m\u001b[0m\u001b[0;34m\u001b[0m\u001b[0m\n\u001b[1;32m   2714\u001b[0m \u001b[0;34m\u001b[0m\u001b[0m\n\u001b[0;32m-> 2715\u001b[0;31m             \u001b[0;32mreturn\u001b[0m \u001b[0mself\u001b[0m\u001b[0;34m.\u001b[0m\u001b[0m_call\u001b[0m\u001b[0;34m(\u001b[0m\u001b[0minputs\u001b[0m\u001b[0;34m)\u001b[0m\u001b[0;34m\u001b[0m\u001b[0;34m\u001b[0m\u001b[0m\n\u001b[0m\u001b[1;32m   2716\u001b[0m         \u001b[0;32melse\u001b[0m\u001b[0;34m:\u001b[0m\u001b[0;34m\u001b[0m\u001b[0;34m\u001b[0m\u001b[0m\n\u001b[1;32m   2717\u001b[0m             \u001b[0;32mif\u001b[0m \u001b[0mpy_any\u001b[0m\u001b[0;34m(\u001b[0m\u001b[0mis_tensor\u001b[0m\u001b[0;34m(\u001b[0m\u001b[0mx\u001b[0m\u001b[0;34m)\u001b[0m \u001b[0;32mfor\u001b[0m \u001b[0mx\u001b[0m \u001b[0;32min\u001b[0m \u001b[0minputs\u001b[0m\u001b[0;34m)\u001b[0m\u001b[0;34m:\u001b[0m\u001b[0;34m\u001b[0m\u001b[0;34m\u001b[0m\u001b[0m\n",
            "\u001b[0;32m/usr/local/lib/python3.6/dist-packages/keras/backend/tensorflow_backend.py\u001b[0m in \u001b[0;36m_call\u001b[0;34m(self, inputs)\u001b[0m\n\u001b[1;32m   2673\u001b[0m             \u001b[0mfetched\u001b[0m \u001b[0;34m=\u001b[0m \u001b[0mself\u001b[0m\u001b[0;34m.\u001b[0m\u001b[0m_callable_fn\u001b[0m\u001b[0;34m(\u001b[0m\u001b[0;34m*\u001b[0m\u001b[0marray_vals\u001b[0m\u001b[0;34m,\u001b[0m \u001b[0mrun_metadata\u001b[0m\u001b[0;34m=\u001b[0m\u001b[0mself\u001b[0m\u001b[0;34m.\u001b[0m\u001b[0mrun_metadata\u001b[0m\u001b[0;34m)\u001b[0m\u001b[0;34m\u001b[0m\u001b[0;34m\u001b[0m\u001b[0m\n\u001b[1;32m   2674\u001b[0m         \u001b[0;32melse\u001b[0m\u001b[0;34m:\u001b[0m\u001b[0;34m\u001b[0m\u001b[0;34m\u001b[0m\u001b[0m\n\u001b[0;32m-> 2675\u001b[0;31m             \u001b[0mfetched\u001b[0m \u001b[0;34m=\u001b[0m \u001b[0mself\u001b[0m\u001b[0;34m.\u001b[0m\u001b[0m_callable_fn\u001b[0m\u001b[0;34m(\u001b[0m\u001b[0;34m*\u001b[0m\u001b[0marray_vals\u001b[0m\u001b[0;34m)\u001b[0m\u001b[0;34m\u001b[0m\u001b[0;34m\u001b[0m\u001b[0m\n\u001b[0m\u001b[1;32m   2676\u001b[0m         \u001b[0;32mreturn\u001b[0m \u001b[0mfetched\u001b[0m\u001b[0;34m[\u001b[0m\u001b[0;34m:\u001b[0m\u001b[0mlen\u001b[0m\u001b[0;34m(\u001b[0m\u001b[0mself\u001b[0m\u001b[0;34m.\u001b[0m\u001b[0moutputs\u001b[0m\u001b[0;34m)\u001b[0m\u001b[0;34m]\u001b[0m\u001b[0;34m\u001b[0m\u001b[0;34m\u001b[0m\u001b[0m\n\u001b[1;32m   2677\u001b[0m \u001b[0;34m\u001b[0m\u001b[0m\n",
            "\u001b[0;32m/usr/local/lib/python3.6/dist-packages/tensorflow/python/client/session.py\u001b[0m in \u001b[0;36m__call__\u001b[0;34m(self, *args, **kwargs)\u001b[0m\n\u001b[1;32m   1437\u001b[0m           ret = tf_session.TF_SessionRunCallable(\n\u001b[1;32m   1438\u001b[0m               \u001b[0mself\u001b[0m\u001b[0;34m.\u001b[0m\u001b[0m_session\u001b[0m\u001b[0;34m.\u001b[0m\u001b[0m_session\u001b[0m\u001b[0;34m,\u001b[0m \u001b[0mself\u001b[0m\u001b[0;34m.\u001b[0m\u001b[0m_handle\u001b[0m\u001b[0;34m,\u001b[0m \u001b[0margs\u001b[0m\u001b[0;34m,\u001b[0m \u001b[0mstatus\u001b[0m\u001b[0;34m,\u001b[0m\u001b[0;34m\u001b[0m\u001b[0;34m\u001b[0m\u001b[0m\n\u001b[0;32m-> 1439\u001b[0;31m               run_metadata_ptr)\n\u001b[0m\u001b[1;32m   1440\u001b[0m         \u001b[0;32mif\u001b[0m \u001b[0mrun_metadata\u001b[0m\u001b[0;34m:\u001b[0m\u001b[0;34m\u001b[0m\u001b[0;34m\u001b[0m\u001b[0m\n\u001b[1;32m   1441\u001b[0m           \u001b[0mproto_data\u001b[0m \u001b[0;34m=\u001b[0m \u001b[0mtf_session\u001b[0m\u001b[0;34m.\u001b[0m\u001b[0mTF_GetBuffer\u001b[0m\u001b[0;34m(\u001b[0m\u001b[0mrun_metadata_ptr\u001b[0m\u001b[0;34m)\u001b[0m\u001b[0;34m\u001b[0m\u001b[0;34m\u001b[0m\u001b[0m\n",
            "\u001b[0;31mKeyboardInterrupt\u001b[0m: "
          ]
        }
      ]
    },
    {
      "metadata": {
        "id": "yoWQOzwWkzXs",
        "colab_type": "code",
        "colab": {}
      },
      "cell_type": "code",
      "source": [
        "!ls"
      ],
      "execution_count": 0,
      "outputs": []
    },
    {
      "metadata": {
        "id": "25FqNG8u2dDa",
        "colab_type": "text"
      },
      "cell_type": "markdown",
      "source": [
        "### Test your model"
      ]
    },
    {
      "metadata": {
        "id": "o1Ti62JUgiNm",
        "colab_type": "code",
        "colab": {}
      },
      "cell_type": "code",
      "source": [
        "\n",
        "env = wrap_env(gym.make('PongDeterministic-v4'))\n",
        "#agent.load('0700hdf5')\n",
        "\n",
        "try:\n",
        "      state = env.reset()\n",
        "      state = np.reshape(state, [1, state_size])\n",
        "\n",
        "      total_reward = 0\n",
        "      done = False\n",
        "\n",
        "      while not done:\n",
        "\n",
        "          env.render()\n",
        "\n",
        "          # Takes a random action from the action space of the environment\n",
        "          action = agent.action(state)\n",
        "\n",
        "          next_state, reward, done, info = env.step(action)\n",
        "\n",
        "          total_reward += reward\n",
        "\n",
        "          next_state = np.reshape(next_state, [1, state_size])\n",
        "          state = next_state\n",
        "        \n",
        "finally:\n",
        "    env.close()       \n",
        "    show_video()"
      ],
      "execution_count": 0,
      "outputs": []
    },
    {
      "metadata": {
        "id": "ca3zSLF02x1E",
        "colab_type": "text"
      },
      "cell_type": "markdown",
      "source": [
        "## Train and test your agent with another atari environment"
      ]
    }
  ]
}